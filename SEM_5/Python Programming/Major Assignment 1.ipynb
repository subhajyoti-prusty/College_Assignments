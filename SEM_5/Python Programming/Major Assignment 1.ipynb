{
 "cells": [
  {
   "cell_type": "code",
   "execution_count": 1,
   "id": "f440eb02-fd28-4be7-b351-066058c4b79b",
   "metadata": {},
   "outputs": [
    {
     "name": "stdin",
     "output_type": "stream",
     "text": [
      "Enter hourly rate:  5000\n",
      "Enter hours worked per week:  56\n"
     ]
    },
    {
     "name": "stdout",
     "output_type": "stream",
     "text": [
      "Basic Salary: 800000\n",
      "Overtime Salary: 480000.0\n",
      "Total Salary: 1280000.0\n"
     ]
    }
   ],
   "source": [
    "\"\"\"1. Write a Python function basic salary that accepts two parameters: hourly rate and hours worked per week.\n",
    "The function should calculate the basic salary per month (assuming a month has 4 weeks). If the hours\n",
    "worked per week exceed 40, create another function overtime salary, where every extra hour worked\n",
    "is paid at 1.5 times the normal hourly rate. Finally, create another function total salary that returns\n",
    "the sum of the basic salary and overtime.\"\"\"\n",
    "\n",
    "def compute_basic_salary(rate_per_hour, weekly_hours): \n",
    "    regular_hours = min(weekly_hours, 40)\n",
    "    return regular_hours * rate_per_hour * 4\n",
    "\n",
    "def compute_overtime_salary(rate_per_hour, weekly_hours):\n",
    "    overtime_hours = max(weekly_hours - 40, 0)\n",
    "    return overtime_hours * rate_per_hour * 1.5 * 4\n",
    "\n",
    "def calculate_total_salary(rate_per_hour, weekly_hours):\n",
    "    basic = compute_basic_salary(rate_per_hour, weekly_hours)\n",
    "    overtime = compute_overtime_salary(rate_per_hour, weekly_hours)\n",
    "    return basic + overtime\n",
    "\n",
    "rate = int(input(\"Enter hourly rate: \"))\n",
    "hours = int(input(\"Enter hours worked per week: \"))\n",
    "print(\"Basic Salary:\", compute_basic_salary(rate, hours))\n",
    "print(\"Overtime Salary:\", compute_overtime_salary(rate, hours))\n",
    "print(\"Total Salary:\", calculate_total_salary(rate, hours))"
   ]
  },
  {
   "cell_type": "code",
   "execution_count": 3,
   "id": "b9fd7684-9285-4f89-903d-b1f662e77499",
   "metadata": {},
   "outputs": [
    {
     "name": "stdin",
     "output_type": "stream",
     "text": [
      "Enter salary:  55000\n"
     ]
    },
    {
     "name": "stdout",
     "output_type": "stream",
     "text": [
      "Tax Amount: 5500.0\n"
     ]
    }
   ],
   "source": [
    "\"\"\"2. Create a function tax amount that shows how much taxes are deducted from the basic salary. Taxes\n",
    "are applied as follows:\"\"\"\n",
    "\n",
    "def compute_tax(salary):\n",
    "    if salary < 60000:\n",
    "        tax_rate = 0.10\n",
    "    elif 60000 <= salary <= 85000:\n",
    "        tax_rate = 0.15\n",
    "    else:\n",
    "        tax_rate = 0.20\n",
    "    return salary * tax_rate\n",
    "\n",
    "salary_input = int(input(\"Enter salary: \"))\n",
    "print(\"Tax Amount:\", compute_tax(salary_input))\n"
   ]
  },
  {
   "cell_type": "code",
   "execution_count": 5,
   "id": "295efbbf-027c-4ff9-b2ce-6315393a2f07",
   "metadata": {},
   "outputs": [
    {
     "name": "stdin",
     "output_type": "stream",
     "text": [
      "Enter hourly rate:  150\n",
      "Enter hours worked per week:  84\n"
     ]
    },
    {
     "name": "stdout",
     "output_type": "stream",
     "text": [
      "Gross Salary: 26400.0\n"
     ]
    }
   ],
   "source": [
    "\"\"\"3. Using the function basic salary from Question 1, write another function gross salary that calculates\n",
    "the gross salary of an employee. This function should accept basic salary as input (output from\n",
    "Question 1), consider a fixed value of allowances (e.g., 20% of basic salary), and return the gross\n",
    "salary (basic salary + allowances - tax).\"\"\"\n",
    "\n",
    "def compute_gross_salary(basic_salary):\n",
    "    allowances = basic_salary * 0.20\n",
    "    tax = compute_tax(basic_salary)\n",
    "    return basic_salary + allowances - tax\n",
    "\n",
    "rate = int(input(\"Enter hourly rate: \"))\n",
    "hours = int(input(\"Enter hours worked per week: \"))\n",
    "basic_salary = compute_basic_salary(rate, hours)\n",
    "print(\"Gross Salary:\", compute_gross_salary(basic_salary))"
   ]
  },
  {
   "cell_type": "code",
   "execution_count": 7,
   "id": "73f76649-9cd7-4553-b8a2-91d89456e7df",
   "metadata": {},
   "outputs": [
    {
     "name": "stdin",
     "output_type": "stream",
     "text": [
      "Enter hourly rate:  100\n",
      "Enter hours worked per week:  84\n"
     ]
    },
    {
     "name": "stdout",
     "output_type": "stream",
     "text": [
      "Salary Bracket: Low income\n"
     ]
    }
   ],
   "source": [
    "\"\"\"4. Using the gross salary function from Question 3, write a function salary bracket that categorizes the\n",
    "employee’s gross salary into one of the following brackets:\"\"\"\n",
    "\n",
    "def categorize_salary(gross_salary):\n",
    "    if gross_salary < 50000:\n",
    "        return \"Low income\"\n",
    "    elif gross_salary <= 80000:\n",
    "        return \"Middle income\"\n",
    "    else:\n",
    "        return \"High income\"\n",
    "\n",
    "rate = int(input(\"Enter hourly rate: \"))\n",
    "hours = int(input(\"Enter hours worked per week: \"))\n",
    "basic_salary = compute_basic_salary(rate, hours)\n",
    "gross_salary = compute_gross_salary(basic_salary)\n",
    "print(\"Salary Bracket:\", categorize_salary(gross_salary))"
   ]
  },
  {
   "cell_type": "code",
   "execution_count": 9,
   "id": "770ef102-9106-4941-809d-6be20dac2a0b",
   "metadata": {},
   "outputs": [
    {
     "name": "stdout",
     "output_type": "stream",
     "text": [
      "\n",
      "Enter details for Employee 1:\n"
     ]
    },
    {
     "name": "stdin",
     "output_type": "stream",
     "text": [
      "Name:  Subhajyoti\n",
      "Hourly Rate:  150\n",
      "Hours Worked per Week:  56\n"
     ]
    },
    {
     "name": "stdout",
     "output_type": "stream",
     "text": [
      "\n",
      "Enter details for Employee 2:\n"
     ]
    },
    {
     "name": "stdin",
     "output_type": "stream",
     "text": [
      "Name:  Subha\n",
      "Hourly Rate:  200\n",
      "Hours Worked per Week:  56\n"
     ]
    },
    {
     "name": "stdout",
     "output_type": "stream",
     "text": [
      "\n",
      "Enter details for Employee 3:\n"
     ]
    },
    {
     "name": "stdin",
     "output_type": "stream",
     "text": [
      "Name:  XYZ\n",
      "Hourly Rate:  450\n",
      "Hours Worked per Week:  50\n"
     ]
    },
    {
     "name": "stdout",
     "output_type": "stream",
     "text": [
      "\n",
      "Employee Salary Report\n",
      "============================================================\n",
      "Name            Basic Salary    Gross Salary    Tax        Bracket        \n",
      "============================================================\n",
      "Subhajyoti      Rs. 24000.00      Rs. 26400.00      Rs. 2400.00  Low income     \n",
      "Subha           Rs. 32000.00      Rs. 35200.00      Rs. 3200.00  Low income     \n",
      "XYZ             Rs. 72000.00      Rs. 75600.00      Rs. 10800.00 Middle income  \n"
     ]
    }
   ],
   "source": [
    "\"\"\"5. Take three different sets of employee names, hourly rates and hours worked per week as user input.\n",
    "Write a Python function employee report that generates a formatted report of all employees’ salary\n",
    "details. This function should print the employee names, basic salaries, gross salaries, tax amounts,\n",
    "and salary brackets in a readable format.\"\"\"\n",
    "\n",
    "def generate_employee_report():\n",
    "    employees = []\n",
    "    for i in range(3):\n",
    "        print(f\"\\nEnter details for Employee {i + 1}:\")\n",
    "        employee_name = input(\"Name: \")\n",
    "        hourly_wage = float(input(\"Hourly Rate: \"))\n",
    "        weekly_hours_worked = float(input(\"Hours Worked per Week: \"))\n",
    "\n",
    "        base_salary = compute_basic_salary(hourly_wage, weekly_hours_worked)\n",
    "        gross_salary = compute_gross_salary(base_salary)\n",
    "        tax_deduction = compute_tax(base_salary)\n",
    "        salary_category = categorize_salary(gross_salary)\n",
    "\n",
    "        employees.append({\n",
    "            \"Name\": employee_name,\n",
    "            \"Basic Salary\": base_salary,\n",
    "            \"Gross Salary\": gross_salary,\n",
    "            \"Tax\": tax_deduction,\n",
    "            \"Bracket\": salary_category\n",
    "        })\n",
    "\n",
    "    print(\"\\nEmployee Salary Report\")\n",
    "    print(\"=\" * 60)\n",
    "    print(f\"{'Name':<15} {'Basic Salary':<15} {'Gross Salary':<15} {'Tax':<10} {'Bracket':<15}\")\n",
    "    print(\"=\" * 60)\n",
    "    for emp in employees:\n",
    "        print(f\"{emp['Name']:<15} Rs. {emp['Basic Salary']:<13.2f} Rs. {emp['Gross Salary']:<13.2f} Rs. {emp['Tax']:<8.2f} {emp['Bracket']:<15}\")\n",
    "\n",
    "generate_employee_report()"
   ]
  }
 ],
 "metadata": {
  "kernelspec": {
   "display_name": "Python 3 (ipykernel)",
   "language": "python",
   "name": "python3"
  },
  "language_info": {
   "codemirror_mode": {
    "name": "ipython",
    "version": 3
   },
   "file_extension": ".py",
   "mimetype": "text/x-python",
   "name": "python",
   "nbconvert_exporter": "python",
   "pygments_lexer": "ipython3",
   "version": "3.11.7"
  }
 },
 "nbformat": 4,
 "nbformat_minor": 5
}
