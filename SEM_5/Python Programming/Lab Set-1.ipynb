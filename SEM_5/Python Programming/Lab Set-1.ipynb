{
 "cells": [
  {
   "cell_type": "code",
   "execution_count": 5,
   "id": "3f468b69-b351-45cf-bddb-347341dd62aa",
   "metadata": {},
   "outputs": [
    {
     "name": "stdin",
     "output_type": "stream",
     "text": [
      "Please enter a string (including special characters, spaces, and numbers):  hello26516 World\n"
     ]
    },
    {
     "name": "stdout",
     "output_type": "stream",
     "text": [
      "Original (Processed) String: helloWorld\n",
      "Encrypted String: khoorZruog\n",
      "Decrypted String: helloWorld\n"
     ]
    }
   ],
   "source": [
    "def accept_and_process_input():\n",
    "    user_input = input(\"Please enter a string (including special characters, spaces, and numbers): \")\n",
    "    filtered_string = ''\n",
    "    for char in user_input:\n",
    "        if char.isalpha():\n",
    "            filtered_string += char\n",
    "    return filtered_string\n",
    "\n",
    "def caesar_cipher(text, shift):\n",
    "    uppercase_alphabet = 'ABCDEFGHIJKLMNOPQRSTUVWXYZ'\n",
    "    lowercase_alphabet = 'abcdefghijklmnopqrstuvwxyz'\n",
    "    \n",
    "    result = []\n",
    "    \n",
    "    for char in text:\n",
    "        if char.isupper():\n",
    "            index = uppercase_alphabet.index(char)\n",
    "            new_char = uppercase_alphabet[(index + shift) % 26]\n",
    "            result.append(new_char)\n",
    "        elif char.islower():\n",
    "            index = lowercase_alphabet.index(char)\n",
    "            new_char = lowercase_alphabet[(index + shift) % 26]\n",
    "            result.append(new_char)\n",
    "    \n",
    "    return ''.join(result)\n",
    "\n",
    "def main():\n",
    "    processed_string = accept_and_process_input()\n",
    "    \n",
    "    shift = 3\n",
    "    encrypted_text = caesar_cipher(processed_string, shift)\n",
    "    decrypted_text = caesar_cipher(encrypted_text, -shift)\n",
    "    \n",
    "    print(f\"Original (Processed) String: {processed_string}\")\n",
    "    print(f\"Encrypted String: {encrypted_text}\")\n",
    "    print(f\"Decrypted String: {decrypted_text}\")\n",
    "\n",
    "main()\n"
   ]
  },
  {
   "cell_type": "code",
   "execution_count": 5,
   "id": "9a35e627-1378-4dd9-931c-8f6bf1915d18",
   "metadata": {},
   "outputs": [
    {
     "name": "stdin",
     "output_type": "stream",
     "text": [
      "Enter the number of people giving feedback:  5\n",
      "Enter feedback (excellent, good, ok, compromised, poor):  good\n",
      "Enter feedback (excellent, good, ok, compromised, poor):  good\n",
      "Enter feedback (excellent, good, ok, compromised, poor):  good\n",
      "Enter feedback (excellent, good, ok, compromised, poor):  good\n",
      "Enter feedback (excellent, good, ok, compromised, poor):  ok\n"
     ]
    },
    {
     "name": "stdout",
     "output_type": "stream",
     "text": [
      "3-star hotel\n"
     ]
    }
   ],
   "source": [
    "def hotel_rating():\n",
    "    feedback_scores = {\"excellent\": 5, \"good\": 4, \"ok\": 3, \"compromised\": 2, \"poor\": 1}\n",
    "    n = int(input(\"Enter the number of people giving feedback: \"))\n",
    "    feedback = []\n",
    "    \n",
    "    for _ in range(n):\n",
    "        feedback_input = input(f\"Enter feedback ({', '.join(feedback_scores.keys())}): \").lower()\n",
    "        feedback.append(feedback_scores.get(feedback_input, 0))\n",
    "    \n",
    "    excellent_or_good = sum(1 for score in feedback if score >= 4)\n",
    "    ok = sum(1 for score in feedback if score == 3)\n",
    "    \n",
    "    excellent_or_good_percentage = (excellent_or_good / n) * 100\n",
    "    ok_percentage = (ok / n) * 100\n",
    "    \n",
    "    if excellent_or_good_percentage > 75:\n",
    "        print(\"3-star hotel\")\n",
    "    elif excellent_or_good_percentage > 50 and ok_percentage > 25:\n",
    "        print(\"2-star hotel\")\n",
    "    elif (excellent_or_good_percentage + ok_percentage) > 75:\n",
    "        print(\"1-star hotel\")\n",
    "    else:\n",
    "        print(\"No-star hotel\")\n",
    "\n",
    "hotel_rating()\n"
   ]
  },
  {
   "cell_type": "code",
   "execution_count": null,
   "id": "bfcb382c-8166-4027-a89e-393f14c724d1",
   "metadata": {},
   "outputs": [],
   "source": []
  }
 ],
 "metadata": {
  "kernelspec": {
   "display_name": "Python 3 (ipykernel)",
   "language": "python",
   "name": "python3"
  },
  "language_info": {
   "codemirror_mode": {
    "name": "ipython",
    "version": 3
   },
   "file_extension": ".py",
   "mimetype": "text/x-python",
   "name": "python",
   "nbconvert_exporter": "python",
   "pygments_lexer": "ipython3",
   "version": "3.11.7"
  }
 },
 "nbformat": 4,
 "nbformat_minor": 5
}
