{
 "cells": [
  {
   "cell_type": "markdown",
   "id": "9aedd864-933d-4f84-87ee-ef901f6a0630",
   "metadata": {},
   "source": [
    "# Lab - 1 (02/09/2024)"
   ]
  },
  {
   "cell_type": "code",
   "execution_count": null,
   "id": "523be90a-9393-4f0e-a2c5-514631999a0e",
   "metadata": {},
   "outputs": [],
   "source": []
  },
  {
   "cell_type": "code",
   "execution_count": null,
   "id": "ce324069-d8ac-454a-b093-24bffe3b32b6",
   "metadata": {},
   "outputs": [],
   "source": [
    "print(\"Hello World\")"
   ]
  },
  {
   "cell_type": "code",
   "execution_count": 7,
   "id": "d18becbb-b962-477e-8ea5-ee0489f37dab",
   "metadata": {},
   "outputs": [
    {
     "name": "stdout",
     "output_type": "stream",
     "text": [
      "11\n"
     ]
    }
   ],
   "source": [
    "a = 5\n",
    "b = 6\n",
    "\n",
    "c = a + b\n",
    "print(c)"
   ]
  },
  {
   "cell_type": "markdown",
   "id": "93360d42-5922-485f-b0fb-45d3cbf6fe74",
   "metadata": {},
   "source": [
    "### String Formatting"
   ]
  },
  {
   "cell_type": "code",
   "execution_count": 17,
   "id": "66f00e82-594d-4c95-8587-78a4ace00ba6",
   "metadata": {},
   "outputs": [],
   "source": [
    "a = 5\n",
    "b = 6"
   ]
  },
  {
   "cell_type": "code",
   "execution_count": 19,
   "id": "f2000bff-dfbf-4808-bdd2-daf59c981b78",
   "metadata": {},
   "outputs": [],
   "source": [
    "c = a + b"
   ]
  },
  {
   "cell_type": "code",
   "execution_count": 34,
   "id": "57700dfe-535b-4ee8-ba6c-622ca381bba2",
   "metadata": {},
   "outputs": [
    {
     "name": "stdout",
     "output_type": "stream",
     "text": [
      "The sum of 5 and 6 is 11\n",
      "Your sum is 11\n"
     ]
    }
   ],
   "source": [
    "print(f\"The sum of {a} and {b} is {c}\")\n",
    "print(\"Your sum is \"+str(c))"
   ]
  },
  {
   "cell_type": "markdown",
   "id": "ac526c57-bbaa-4161-9311-32986ad4f6a6",
   "metadata": {},
   "source": [
    "### Input "
   ]
  },
  {
   "cell_type": "code",
   "execution_count": 38,
   "id": "1e56033e-1827-45ac-aeec-27a985d052bf",
   "metadata": {},
   "outputs": [
    {
     "name": "stdin",
     "output_type": "stream",
     "text": [
      "Enter the first value: 15\n",
      "Enter the second value: 15\n"
     ]
    }
   ],
   "source": [
    "d = int(input(\"Enter the first value:\"))\n",
    "e = int(input(\"Enter the second value:\"))"
   ]
  },
  {
   "cell_type": "code",
   "execution_count": 40,
   "id": "ac387572-98a2-43fb-8418-030152cca78a",
   "metadata": {},
   "outputs": [],
   "source": [
    "f = int (d + e)"
   ]
  },
  {
   "cell_type": "code",
   "execution_count": 42,
   "id": "8cfcc7b8-71a2-491f-9c62-c8133fcd11e7",
   "metadata": {},
   "outputs": [
    {
     "name": "stdout",
     "output_type": "stream",
     "text": [
      "The sum of 15 and 15 is 30\n"
     ]
    }
   ],
   "source": [
    "print(f\"The sum of {d} and {e} is {f}\")"
   ]
  },
  {
   "cell_type": "code",
   "execution_count": 60,
   "id": "9ea1efff-59aa-49f4-8b18-50bca108d90c",
   "metadata": {},
   "outputs": [
    {
     "name": "stdin",
     "output_type": "stream",
     "text": [
      "Input your number. 15\n"
     ]
    }
   ],
   "source": [
    "Input = int(input(\"Input your number.\"))"
   ]
  },
  {
   "cell_type": "code",
   "execution_count": 62,
   "id": "a6e41f92-08bd-44b8-ac3b-b796b4da7473",
   "metadata": {},
   "outputs": [
    {
     "name": "stdout",
     "output_type": "stream",
     "text": [
      "Odd\n"
     ]
    }
   ],
   "source": [
    "if Input % 2 == 0:\n",
    "    print(\"Even\")\n",
    "elif Input % 2 != 0:\n",
    "    print(\"Odd\")"
   ]
  },
  {
   "cell_type": "markdown",
   "id": "70bb7d49-ec5a-4860-a41e-c4425129dd9b",
   "metadata": {},
   "source": [
    "### To calculate simple intrest "
   ]
  },
  {
   "cell_type": "code",
   "execution_count": null,
   "id": "3649768a-fde2-4d26-9148-2721904a37f0",
   "metadata": {},
   "outputs": [],
   "source": [
    "principal = int(input(\"Enter the principal amount:\"))"
   ]
  },
  {
   "cell_type": "code",
   "execution_count": null,
   "id": "e6d109d5-2af3-4612-b451-26dd6bda49b6",
   "metadata": {},
   "outputs": [],
   "source": [
    "rate  = int(input(\"Enter the intrest rate:\"))"
   ]
  },
  {
   "cell_type": "code",
   "execution_count": null,
   "id": "e1b369ef-2a5f-458c-8d3d-1f4790f68a80",
   "metadata": {},
   "outputs": [],
   "source": [
    "time  = int(input(\"Enter the time period:\"))"
   ]
  },
  {
   "cell_type": "code",
   "execution_count": null,
   "id": "6a19220b-dc99-41e1-b356-e624ac96cbf3",
   "metadata": {},
   "outputs": [],
   "source": [
    "SimpleIntrest = (principal*rate*time)\n",
    "\n",
    "print(SimleIntrest)"
   ]
  },
  {
   "cell_type": "markdown",
   "id": "786ca7a4-c3c1-4d08-8496-1fcc298b77fd",
   "metadata": {},
   "source": [
    "### To convert .C to .F"
   ]
  },
  {
   "cell_type": "code",
   "execution_count": null,
   "id": "6648fa97-192d-47bd-8fb2-43380fffb775",
   "metadata": {},
   "outputs": [],
   "source": []
  },
  {
   "cell_type": "markdown",
   "id": "a7e8ca31-65e0-4f47-a688-9b4cf6bed632",
   "metadata": {},
   "source": [
    "# Lab - 2 (09/09/2024)"
   ]
  },
  {
   "cell_type": "code",
   "execution_count": 2,
   "id": "37af30a3-01bc-4a01-9197-bf5eb275e263",
   "metadata": {},
   "outputs": [
    {
     "data": {
      "text/plain": [
       "int"
      ]
     },
     "execution_count": 2,
     "metadata": {},
     "output_type": "execute_result"
    }
   ],
   "source": [
    "x = 5\n",
    "type(x)"
   ]
  },
  {
   "cell_type": "code",
   "execution_count": 7,
   "id": "25128e1a-d3ce-4a30-9240-75fe3b0bc18d",
   "metadata": {},
   "outputs": [],
   "source": [
    "a = 10\n",
    "b = 5"
   ]
  },
  {
   "cell_type": "code",
   "execution_count": 11,
   "id": "05c68420-3dc5-4859-ab23-c43e8908e2d7",
   "metadata": {},
   "outputs": [
    {
     "name": "stdout",
     "output_type": "stream",
     "text": [
      "15\n",
      "5\n",
      "50\n",
      "100000\n",
      "2.0\n",
      "0\n"
     ]
    }
   ],
   "source": [
    "print(a+b)\n",
    "print(a-b)\n",
    "print(a*b)\n",
    "print(a**b)\n",
    "print(a/b)\n",
    "print(a%b)"
   ]
  },
  {
   "cell_type": "code",
   "execution_count": 13,
   "id": "d7f87f99-336d-48f1-a264-eda85c05680b",
   "metadata": {},
   "outputs": [
    {
     "name": "stdout",
     "output_type": "stream",
     "text": [
      "Welcome \n",
      " to \n",
      "Python\n"
     ]
    }
   ],
   "source": [
    "print(\"Welcome \\n to \\nPython\")"
   ]
  },
  {
   "cell_type": "code",
   "execution_count": 31,
   "id": "83276e1c-0256-42b2-9bd8-e01a4ff36eeb",
   "metadata": {},
   "outputs": [
    {
     "name": "stdout",
     "output_type": "stream",
     "text": [
      "'Welcome \n",
      " to \n",
      "Python'\n"
     ]
    }
   ],
   "source": [
    "print (\"\\'Welcome \\n to \\nPython\\'\")"
   ]
  },
  {
   "cell_type": "markdown",
   "id": "80c73592-e1f7-4e37-ac3e-d5da97ba5014",
   "metadata": {},
   "source": [
    "### Simple If"
   ]
  },
  {
   "cell_type": "code",
   "execution_count": 70,
   "id": "591b44a6-993e-4a7b-ade9-92d899b6ba27",
   "metadata": {},
   "outputs": [
    {
     "name": "stdin",
     "output_type": "stream",
     "text": [
      "Enter Your mark 26\n"
     ]
    },
    {
     "name": "stdout",
     "output_type": "stream",
     "text": [
      "30\n"
     ]
    }
   ],
   "source": [
    "x = int(input(\"Enter Your mark\"))\n",
    "\n",
    "if x>=25 and x<=30:\n",
    "    x = 30\n",
    "\n",
    "print(x)"
   ]
  },
  {
   "cell_type": "markdown",
   "id": "0e4f80ac-fe04-4138-91aa-3fbe79612779",
   "metadata": {},
   "source": [
    "### If-else\n",
    "\n",
    "Q> Write a program to check even or odd?"
   ]
  },
  {
   "cell_type": "code",
   "execution_count": 58,
   "id": "76018423-e062-41b5-9c09-d2f87d149920",
   "metadata": {},
   "outputs": [
    {
     "name": "stdin",
     "output_type": "stream",
     "text": [
      "Enter Your Number 5\n"
     ]
    },
    {
     "name": "stdout",
     "output_type": "stream",
     "text": [
      "odd\n"
     ]
    }
   ],
   "source": [
    "number = int(input(\"Enter Your Number\"))\n",
    "\n",
    "if number%2 == 0:\n",
    "    print(\"Even\")\n",
    "else:\n",
    "    print(\"odd\")"
   ]
  },
  {
   "cell_type": "markdown",
   "id": "60c80357-0ccb-4d14-90aa-fe26caa4384f",
   "metadata": {},
   "source": [
    "### Nested If-else\n",
    "\n",
    "Check lagest between three numbers"
   ]
  },
  {
   "cell_type": "code",
   "execution_count": 74,
   "id": "ca0ba6bb-e1f7-4fb2-9c45-d662006717e4",
   "metadata": {},
   "outputs": [
    {
     "name": "stdin",
     "output_type": "stream",
     "text": [
      "Enter Your First Number:  15\n",
      "Enter Your Second Number:  16\n",
      "Enter Your Third Number:  12\n"
     ]
    },
    {
     "name": "stdout",
     "output_type": "stream",
     "text": [
      "Number2 is largest\n"
     ]
    }
   ],
   "source": [
    "number1 = int(input(\"Enter Your First Number: \"))\n",
    "number2 = int(input(\"Enter Your Second Number: \"))\n",
    "number3 = int(input(\"Enter Your Third Number: \"))\n",
    "\n",
    "if number1 > number2:\n",
    "    if number1 > number3:\n",
    "        print(\"Number1 is largest\")\n",
    "    else:\n",
    "        print(\"Number3 is largest\")\n",
    "else:\n",
    "    if number2 > number3:\n",
    "        print(\"Number2 is largest\")\n",
    "    else:\n",
    "        print(\"Number3 is largest\")"
   ]
  },
  {
   "cell_type": "code",
   "execution_count": 76,
   "id": "12a1f641-2f37-4672-98e1-48eb39d85eeb",
   "metadata": {},
   "outputs": [
    {
     "name": "stdin",
     "output_type": "stream",
     "text": [
      "Enter Your First Number:  15\n",
      "Enter Your Second Number:  15\n",
      "Enter Your Third Number:  15\n"
     ]
    },
    {
     "name": "stdout",
     "output_type": "stream",
     "text": [
      "Number3 is largest\n"
     ]
    }
   ],
   "source": [
    "number1 = int(input(\"Enter Your First Number: \"))\n",
    "number2 = int(input(\"Enter Your Second Number: \"))\n",
    "number3 = int(input(\"Enter Your Third Number: \"))\n",
    "\n",
    "if number1 > number2 and number1 > number3:\n",
    "    print(\"Number1 is largest\")\n",
    "elif number2 > number1 and number2 > number3:\n",
    "    print(\"Number2 is largest\")\n",
    "else:\n",
    "    print(\"Number3 is largest\")"
   ]
  },
  {
   "cell_type": "markdown",
   "id": "2e1e20d6-2d18-49c9-895d-6a5bc8f2fc66",
   "metadata": {},
   "source": [
    "### elif \n",
    "\n",
    "print grades:\n",
    "    >90 = O \n",
    "    >80 = E\n",
    "    >60 = Fir\n",
    "    >50 = Sec\n",
    "    >30 = Thi\n",
    "    else = fail"
   ]
  },
  {
   "cell_type": "code",
   "execution_count": 83,
   "id": "deac3f42-b30b-4e1b-8d01-4dbc056813a5",
   "metadata": {},
   "outputs": [
    {
     "name": "stdin",
     "output_type": "stream",
     "text": [
      "Enter Your Mark:  59\n"
     ]
    },
    {
     "name": "stdout",
     "output_type": "stream",
     "text": [
      "Second\n"
     ]
    }
   ],
   "source": [
    "mark = int(input(\"Enter Your Mark: \"))\n",
    "\n",
    "if mark >= 90:\n",
    "    print(\"Outstanding\")\n",
    "elif mark >=80:\n",
    "    print(\"Excellent\")\n",
    "elif mark >=60:\n",
    "    print(\"First\")\n",
    "elif mark >=50:\n",
    "    print(\"Second\")\n",
    "elif mark >=30:\n",
    "    print(\"Third\")\n",
    "else:\n",
    "    print(\"Fail\")\n",
    "    "
   ]
  },
  {
   "cell_type": "markdown",
   "id": "688fa625-8e28-42be-bd5d-cf451082e8cf",
   "metadata": {},
   "source": [
    "### While statement \n",
    "\n",
    "find the sum of 1 + 1/2 + 1/3 + ........... + 1/n"
   ]
  },
  {
   "cell_type": "code",
   "execution_count": null,
   "id": "4bb41a35-4315-478f-bddd-a3d11c91825b",
   "metadata": {},
   "outputs": [],
   "source": []
  },
  {
   "cell_type": "markdown",
   "id": "4f8457d4-2d94-40e3-95be-771efedbac89",
   "metadata": {},
   "source": [
    "### For statement \n",
    "\n",
    "find the sum of 1 + 1/2 + 1/3 + ........... + 1/n"
   ]
  },
  {
   "cell_type": "code",
   "execution_count": 113,
   "id": "d81b8541-4bfd-4d3a-905d-2d95935e3b6e",
   "metadata": {},
   "outputs": [
    {
     "name": "stdin",
     "output_type": "stream",
     "text": [
      "Enter Nth:  12\n"
     ]
    },
    {
     "name": "stdout",
     "output_type": "stream",
     "text": [
      "Sum is 1.878211\n"
     ]
    }
   ],
   "source": [
    "def sum(n): \n",
    "    i = 1\n",
    "    s = 0.0\n",
    "    for i in range(1, n+1,2): \n",
    "        s = s + 1/i; \n",
    "    return s; \n",
    "\n",
    "n = int(input(\"Enter Nth: \"))\n",
    "print(\"Sum is\", round(sum(n), 6)) "
   ]
  },
  {
   "cell_type": "markdown",
   "id": "78a6bb47-8985-4ac1-8190-3b0e0ce555b1",
   "metadata": {},
   "source": [
    "Print the prime numbers within a range using for statement."
   ]
  },
  {
   "cell_type": "code",
   "execution_count": 129,
   "id": "9bf500d9-b841-435c-bde2-3e0c86740063",
   "metadata": {},
   "outputs": [
    {
     "name": "stdin",
     "output_type": "stream",
     "text": [
      "Input the upper range to find the prime numbers:  15\n"
     ]
    },
    {
     "name": "stdout",
     "output_type": "stream",
     "text": [
      "2\n",
      "3\n",
      "5\n",
      "7\n",
      "11\n",
      "13\n"
     ]
    }
   ],
   "source": [
    "N = int(input(\"Input the upper range to find the prime numbers: \"))\n",
    "\n",
    "for i in range(2, N+1):\n",
    "    is_prime = True \n",
    "    if N > 1:\n",
    "        for j in range(2, i // 2 + 1): \n",
    "            if i % j == 0:\n",
    "                is_prime = False\n",
    "                break\n",
    "        if is_prime:\n",
    "            print(i)\n",
    "    else:\n",
    "        print(\"1 is a \")"
   ]
  },
  {
   "cell_type": "markdown",
   "id": "b9814911-9c42-4935-ab7f-c74c20789489",
   "metadata": {},
   "source": [
    "Print Fobonacci series upto n using for statement"
   ]
  },
  {
   "cell_type": "code",
   "execution_count": null,
   "id": "e25d7fba-71e1-4afe-a5a9-a395649fe948",
   "metadata": {},
   "outputs": [],
   "source": []
  },
  {
   "cell_type": "markdown",
   "id": "6185bba4-83b7-4f52-9222-4523be98574b",
   "metadata": {},
   "source": [
    "# Lab-3 (16/09/2024)"
   ]
  },
  {
   "cell_type": "code",
   "execution_count": 18,
   "id": "c5b2acfc-9080-41ee-af2f-e66150b6ec49",
   "metadata": {},
   "outputs": [
    {
     "name": "stdout",
     "output_type": "stream",
     "text": [
      "P\n",
      "r\n",
      "o\n",
      "g\n",
      "r\n",
      "a\n",
      "m\n",
      "m\n",
      "i\n",
      "n\n",
      "g\n",
      "Programming"
     ]
    }
   ],
   "source": [
    "for char in \"Programming\":\n",
    "    print(char)\n",
    "\n",
    "for char in \"Programming\":\n",
    "    print(char, end='')"
   ]
  },
  {
   "cell_type": "code",
   "execution_count": 16,
   "id": "104a3146-c495-4e33-8fd6-a05caa0d095c",
   "metadata": {},
   "outputs": [
    {
     "name": "stdout",
     "output_type": "stream",
     "text": [
      "P;r;o;g;r;a;m;m;i;n;g;"
     ]
    }
   ],
   "source": [
    "for char in \"Programming\":\n",
    "    print(char, end=';')"
   ]
  },
  {
   "cell_type": "code",
   "execution_count": 20,
   "id": "6e347b9c-0423-45ad-ba0e-88a4db8d411b",
   "metadata": {},
   "outputs": [
    {
     "name": "stdout",
     "output_type": "stream",
     "text": [
      "10:20:30\n"
     ]
    }
   ],
   "source": [
    "print(10,20,30,sep=':')"
   ]
  },
  {
   "cell_type": "markdown",
   "id": "27846563-9e23-4f39-ab47-3a3161726601",
   "metadata": {},
   "source": [
    "### String Formatting"
   ]
  },
  {
   "cell_type": "code",
   "execution_count": 24,
   "id": "42f47996-64e9-43df-9011-941093ab6da7",
   "metadata": {},
   "outputs": [
    {
     "name": "stdout",
     "output_type": "stream",
     "text": [
      "The value of x is 5\n"
     ]
    }
   ],
   "source": [
    "x = 5\n",
    "print(f\"The value of x is {x}\")"
   ]
  },
  {
   "cell_type": "markdown",
   "id": "f05a7450-fce4-43c3-9abc-e70308f66d8b",
   "metadata": {},
   "source": [
    "### Sentinal Controlled Iteration\n"
   ]
  },
  {
   "cell_type": "code",
   "execution_count": 29,
   "id": "405ca247-0c3e-4332-9219-48f4987a6358",
   "metadata": {},
   "outputs": [],
   "source": [
    "total = 0\n",
    "Grade_count = 0"
   ]
  },
  {
   "cell_type": "code",
   "execution_count": null,
   "id": "5f14fbc8-a78f-493a-8fde-9650e8e7161b",
   "metadata": {},
   "outputs": [],
   "source": [
    "print(\"Enter -1 to stop\")\n",
    "Grade = int(input(\"Enter the grade\"))\n",
    "\n",
    "while Grade != -1:\n",
    "    total = total + Grade\n",
    "    Grade_count = Grade_count+1\n",
    "    Grade = int(input(\"Enter the grade\"))\n",
    "    avg = total / Grade_count\n",
    "    print(f\"The average is {avg}\")"
   ]
  },
  {
   "cell_type": "markdown",
   "id": "44234b02-c79d-4e1f-830a-8ecb64f15f87",
   "metadata": {},
   "source": [
    "Write a program to print from 1 to 10 using for loop\n",
    "    i) use break to get (1,2,3,4,5)\n",
    "    ii) use continue to get (1,2,3,4,6,7,8,9,10)"
   ]
  },
  {
   "cell_type": "code",
   "execution_count": 86,
   "id": "35261526-ae58-4104-a5d4-db0e9ab4becd",
   "metadata": {},
   "outputs": [
    {
     "name": "stdout",
     "output_type": "stream",
     "text": [
      "1\n",
      "2\n",
      "3\n",
      "4\n",
      "5\n"
     ]
    }
   ],
   "source": [
    "for i in range (1,11):\n",
    "    print(i)\n",
    "    if i == 5:\n",
    "        break    "
   ]
  },
  {
   "cell_type": "code",
   "execution_count": 88,
   "id": "f4154bfc-16ab-4710-8485-6b5f536ca4c0",
   "metadata": {},
   "outputs": [
    {
     "name": "stdout",
     "output_type": "stream",
     "text": [
      "1\n",
      "2\n",
      "3\n",
      "4\n",
      "5\n",
      "7\n",
      "8\n",
      "9\n",
      "10\n"
     ]
    }
   ],
   "source": [
    "for i in range (1,11,1):\n",
    "    if i == 6:\n",
    "        continue\n",
    "    print(i)"
   ]
  },
  {
   "cell_type": "markdown",
   "id": "f06a94ab-1b7d-49b6-931e-9eb5db9f4e76",
   "metadata": {},
   "source": [
    "### Central Tendency"
   ]
  },
  {
   "cell_type": "code",
   "execution_count": 93,
   "id": "d7fb8073-afbd-4dcf-b903-233351c31247",
   "metadata": {},
   "outputs": [
    {
     "name": "stdout",
     "output_type": "stream",
     "text": [
      "94.375\n",
      "93.0\n",
      "93\n"
     ]
    }
   ],
   "source": [
    "import statistics\n",
    "Grades = [95,93,92,97,92,93,93,100]\n",
    "print(statistics.mean(Grades))\n",
    "print(statistics.median(Grades))\n",
    "print(statistics.mode(Grades))"
   ]
  },
  {
   "cell_type": "markdown",
   "id": "6056bbb6-7fa8-49e8-8b85-f28cf34b3c34",
   "metadata": {},
   "source": [
    "### Functions"
   ]
  },
  {
   "cell_type": "code",
   "execution_count": 96,
   "id": "d040fd70-22e4-425b-819b-87f4356eabde",
   "metadata": {},
   "outputs": [
    {
     "data": {
      "text/plain": [
       "25"
      ]
     },
     "execution_count": 96,
     "metadata": {},
     "output_type": "execute_result"
    }
   ],
   "source": [
    "def square(number):\n",
    "    return number**2\n",
    "\n",
    "square(5)"
   ]
  },
  {
   "cell_type": "markdown",
   "id": "d714dc7e-6514-4c31-ace5-5796d95d7fb7",
   "metadata": {},
   "source": [
    "i)No Arrgument, No Return\n",
    "ii)1 Arrgument, No Return\n",
    "iii)No Arrgument, 1 Return\n",
    "iv)1 Arrgument, 1 Return"
   ]
  },
  {
   "cell_type": "code",
   "execution_count": 122,
   "id": "b7bea57f-3c99-46dd-b90a-5c648ca1b38b",
   "metadata": {},
   "outputs": [
    {
     "name": "stdin",
     "output_type": "stream",
     "text": [
      " 5\n"
     ]
    }
   ],
   "source": [
    "#No Arrgument, No Return\n",
    "\n",
    "def Sqr():\n",
    "    n = int(input())\n",
    "    n**2   \n",
    "Sqr()"
   ]
  },
  {
   "cell_type": "code",
   "execution_count": 116,
   "id": "c553e9b2-15ff-420d-bd5c-2db5e351eff1",
   "metadata": {},
   "outputs": [],
   "source": [
    "# 1 Arrgument, No Return\n",
    "\n",
    "def Sqr(n):\n",
    "    n**2\n",
    "Sqr(5)"
   ]
  },
  {
   "cell_type": "code",
   "execution_count": 120,
   "id": "dcd9c5f9-1ca3-400b-b781-39ea5011d73d",
   "metadata": {},
   "outputs": [
    {
     "name": "stdin",
     "output_type": "stream",
     "text": [
      " 5\n"
     ]
    },
    {
     "data": {
      "text/plain": [
       "25"
      ]
     },
     "execution_count": 120,
     "metadata": {},
     "output_type": "execute_result"
    }
   ],
   "source": [
    "# No Arrgument, 1 Return\n",
    "\n",
    "def Sqr():\n",
    "    n = int(input())\n",
    "    return n**2   \n",
    "Sqr()"
   ]
  },
  {
   "cell_type": "code",
   "execution_count": 118,
   "id": "25990454-231b-422e-914e-749ad5011fc1",
   "metadata": {},
   "outputs": [
    {
     "data": {
      "text/plain": [
       "25"
      ]
     },
     "execution_count": 118,
     "metadata": {},
     "output_type": "execute_result"
    }
   ],
   "source": [
    "# 1 Arrgument, 1 Return\n",
    "\n",
    "def Sqr(n):\n",
    "    return n**2   \n",
    "Sqr(5)"
   ]
  },
  {
   "cell_type": "markdown",
   "id": "0a228183-d5f7-4fe9-ad12-f2a17d46b29f",
   "metadata": {},
   "source": [
    "### Random Number Generation"
   ]
  },
  {
   "cell_type": "code",
   "execution_count": 131,
   "id": "a18c3d4a-1bf4-4598-843f-59b380b7e69e",
   "metadata": {},
   "outputs": [
    {
     "name": "stdout",
     "output_type": "stream",
     "text": [
      "6,1,1,6,3,2,2,2,6,1,"
     ]
    }
   ],
   "source": [
    "import random\n",
    "random.seed(42)\n",
    "for roll in range(10):\n",
    "    print(random.randrange(1,7),end=',')"
   ]
  },
  {
   "cell_type": "code",
   "execution_count": 133,
   "id": "23522d1d-8490-4bf8-b6ac-4a1db6b4b62d",
   "metadata": {},
   "outputs": [
    {
     "name": "stdout",
     "output_type": "stream",
     "text": [
      "nananananananananananananananana Batman\n"
     ]
    }
   ],
   "source": [
    "a = \"nana\"\n",
    "b = 8\n",
    "c = a*b\n",
    "\n",
    "print(c, \"Batman\")"
   ]
  },
  {
   "cell_type": "code",
   "execution_count": 139,
   "id": "74590a70-5410-4748-bfe2-ce1b9a5b71ab",
   "metadata": {},
   "outputs": [
    {
     "name": "stdout",
     "output_type": "stream",
     "text": [
      "Hi! We are studing \"Python\".\\n I hope you all are doing well. \n",
      " We are going to have a great time\n"
     ]
    }
   ],
   "source": [
    "print(\"Hi! We are studing \\\"Python\\\".\\\\n I hope you all are doing well. \\n We are going to have a great time\")"
   ]
  },
  {
   "cell_type": "markdown",
   "id": "29484344-be6c-4ecf-8342-afaeae60f2cf",
   "metadata": {},
   "source": [
    "# Lab-4 (21/09/2024)"
   ]
  },
  {
   "cell_type": "code",
   "execution_count": 11,
   "id": "a75dbbf6-8144-4f16-a2cd-076622ae8b35",
   "metadata": {},
   "outputs": [
    {
     "name": "stdout",
     "output_type": "stream",
     "text": [
      "a = 7 \n",
      "b = 7\n"
     ]
    }
   ],
   "source": [
    "a = b = 7\n",
    "print('a =', a, '\\nb =', b)"
   ]
  },
  {
   "cell_type": "code",
   "execution_count": 15,
   "id": "06bdee13-e6ed-4b8c-ad81-f47e263b8e84",
   "metadata": {},
   "outputs": [
    {
     "name": "stdout",
     "output_type": "stream",
     "text": [
      ">>>>>>>>>>\n",
      "<<<<<<<<<<\n",
      ">>>>>>>>>>\n",
      "<<<<<<<<<<\n",
      ">>>>>>>>>>\n",
      "<<<<<<<<<<\n",
      ">>>>>>>>>>\n",
      "<<<<<<<<<<\n",
      ">>>>>>>>>>\n",
      "<<<<<<<<<<\n"
     ]
    }
   ],
   "source": [
    "for row in range(10):\n",
    "    for column in range(10):\n",
    "        print('<' if row % 2 == 1 else '>', end='')\n",
    "    print()"
   ]
  },
  {
   "cell_type": "code",
   "execution_count": 29,
   "id": "c0aed00b-c0d1-4e41-b9d6-57fa148c6989",
   "metadata": {},
   "outputs": [
    {
     "name": "stdout",
     "output_type": "stream",
     "text": [
      "@@@@@@@\n",
      "@@@@@@@\n"
     ]
    }
   ],
   "source": [
    "for row in range(2):\n",
    "    for column in range(7):\n",
    "        print('@',end=\"\")\n",
    "    print()"
   ]
  },
  {
   "cell_type": "code",
   "execution_count": 47,
   "id": "2dbd733c-9904-40ad-88a4-e56cda99edb1",
   "metadata": {},
   "outputs": [
    {
     "name": "stdout",
     "output_type": "stream",
     "text": [
      "number square cube   \n",
      "     0      0    0\n",
      "     1      1    1\n",
      "     2      4    8\n",
      "     3      9   27\n",
      "     4     16   64\n",
      "     5     25  125\n"
     ]
    }
   ],
   "source": [
    "print(f'{\"number\":<7}{\"square\":<7}{\"cube\":<7}')\n",
    "for num in range(6):\n",
    "    print(f'{num:>6}{num**2:>7}{num**3:>5}')"
   ]
  },
  {
   "cell_type": "code",
   "execution_count": 1,
   "id": "b2e732c9-d69f-4d92-a8d2-7392b2b1e3c7",
   "metadata": {},
   "outputs": [
    {
     "name": "stdin",
     "output_type": "stream",
     "text": [
      "Enter a value: 121\n"
     ]
    },
    {
     "name": "stdout",
     "output_type": "stream",
     "text": [
      "This value is a palindrome number!\n"
     ]
    }
   ],
   "source": [
    "num = int(input(\"Enter a value:\"))  \n",
    "temp = num  \n",
    "rev = 0  \n",
    "while(num > 0):  \n",
    "    dig = num % 10  \n",
    "    rev = rev * 10 + dig  \n",
    "    num = num // 10  \n",
    "if(temp == rev):  \n",
    "    print(\"This value is a palindrome number!\")  \n",
    "else:  \n",
    "    print(\"This value is not a palindrome number!\")  "
   ]
  },
  {
   "cell_type": "code",
   "execution_count": 26,
   "id": "6b2f4c52-dd0e-4165-8aab-7843711ae7d3",
   "metadata": {},
   "outputs": [
    {
     "name": "stdout",
     "output_type": "stream",
     "text": [
      "3.1415916535897743\n"
     ]
    }
   ],
   "source": [
    "def pi(n):\n",
    "    total_sum = 0\n",
    "    for i in range(n):\n",
    "        term = 4/(2*i+1)\n",
    "        if i % 2 == 0:\n",
    "            total_sum += term\n",
    "        else:\n",
    "            total_sum -= term\n",
    "    return total_sum\n",
    "\n",
    "n = 1000000\n",
    "result = pi(n)\n",
    "print(result)"
   ]
  },
  {
   "cell_type": "code",
   "execution_count": 40,
   "id": "12f04c6a-0b09-43a4-9160-451a4883a81e",
   "metadata": {},
   "outputs": [
    {
     "name": "stdout",
     "output_type": "stream",
     "text": [
      "The value of N is: 628\n",
      "The sum of the sequence at this point is: 3.1400002979112887\n"
     ]
    }
   ],
   "source": [
    "def term(n):\n",
    "    total_sum = 0\n",
    "    i = 0\n",
    "    \n",
    "    while abs(total_sum - n) > 1e-6:\n",
    "        term = 4 / (2 * i + 1)\n",
    "        if i % 2 == 0:\n",
    "            total_sum += term\n",
    "        else:\n",
    "            total_sum -= term\n",
    "        i += 1\n",
    "        \n",
    "    return i, total_sum\n",
    "\n",
    "n = 3.14\n",
    "n_value, approx_sum = term(n)\n",
    "print(f\"The value of N is: {n_value}\")\n",
    "print(f\"The sum of the sequence at this point is: {approx_sum}\")\n"
   ]
  },
  {
   "cell_type": "code",
   "execution_count": 42,
   "id": "537a3da3-972a-4e92-8cb9-c89e33893d6b",
   "metadata": {},
   "outputs": [
    {
     "name": "stdin",
     "output_type": "stream",
     "text": [
      "Enter number 1:  154\n",
      "Enter number 2:  156\n",
      "Enter number 3:  16548\n",
      "Enter number 4:  151\n",
      "Enter number 5:  85\n",
      "Enter number 6:  561651\n",
      "Enter number 7:  81\n",
      "Enter number 8:  6526518123\n",
      "Enter number 9:  81\n",
      "Enter number 10:  351\n"
     ]
    },
    {
     "name": "stdout",
     "output_type": "stream",
     "text": [
      "The largest number is: 6526518123.0\n",
      "The second largest number is: 561651.0\n"
     ]
    }
   ],
   "source": [
    "largest = float('-inf')\n",
    "second_largest = float('-inf')\n",
    "\n",
    "for i in range(10):\n",
    "    num = float(input(f\"Enter number {i+1}: \"))\n",
    "    if num > largest:\n",
    "        second_largest = largest\n",
    "        largest = num\n",
    "    elif num > second_largest:\n",
    "        second_largest = num\n",
    "\n",
    "print(f\"The largest number is: {largest}\")\n",
    "print(f\"The second largest number is: {second_largest}\")\n"
   ]
  },
  {
   "cell_type": "code",
   "execution_count": 50,
   "id": "d49dbec7-d557-45c7-8ac5-0150e94e66ac",
   "metadata": {},
   "outputs": [
    {
     "name": "stdout",
     "output_type": "stream",
     "text": [
      "*\n",
      "**\n",
      "***\n",
      "****\n",
      "*****\n",
      "******\n",
      "\n",
      "******\n",
      "*****\n",
      "****\n",
      "***\n",
      "**\n",
      "*\n",
      "\n",
      "     *\n",
      "    **\n",
      "   ***\n",
      "  ****\n",
      " *****\n",
      "******\n",
      "\n",
      "******\n",
      " *****\n",
      "  ****\n",
      "   ***\n",
      "    **\n",
      "     *\n"
     ]
    }
   ],
   "source": [
    "# Pattern 1\n",
    "for i in range(1, 7):\n",
    "    for j in range(i):\n",
    "        print('*', end='')\n",
    "    print()\n",
    "\n",
    "print()\n",
    "\n",
    "# Pattern 2\n",
    "for i in range(6, 0, -1):\n",
    "    for j in range(i):\n",
    "        print('*', end='')\n",
    "    print()\n",
    "\n",
    "print()\n",
    "\n",
    "\n",
    "# Pattern 3\n",
    "for i in range(1, 7):\n",
    "    print(' ' * (6 - i), end='')\n",
    "    print('*' * i)\n",
    "\n",
    "print()\n",
    "\n",
    "\n",
    "# Pattern 4\n",
    "for i in range(6, 0, -1):\n",
    "    print(' ' * (6 - i), end='')\n",
    "    print('*' * i)"
   ]
  },
  {
   "cell_type": "code",
   "execution_count": 56,
   "id": "2b6b0831-9f2d-4a19-83c7-ec8d283b9dda",
   "metadata": {},
   "outputs": [
    {
     "name": "stdin",
     "output_type": "stream",
     "text": [
      "Enter a binary number (0s and 1s):  00000000000\n"
     ]
    },
    {
     "name": "stdout",
     "output_type": "stream",
     "text": [
      "The decimal equivalent is: 0\n"
     ]
    }
   ],
   "source": [
    "binary_number = int(input(\"Enter a binary number (0s and 1s): \"))\n",
    "\n",
    "decimal_number = 0\n",
    "position = 0\n",
    "\n",
    "while binary_number > 0:\n",
    "    digit = binary_number % 10\n",
    "    decimal_number += digit * (2 ** position)\n",
    "    position += 1\n",
    "    binary_number //= 10\n",
    "print(f\"The decimal equivalent is: {decimal_number}\")\n"
   ]
  },
  {
   "cell_type": "code",
   "execution_count": 58,
   "id": "d2d92f25-86a4-49e3-8948-da4957e644b6",
   "metadata": {},
   "outputs": [
    {
     "name": "stdout",
     "output_type": "stream",
     "text": [
      "Pythagorean triple found: 3, 4, 5\n",
      "Pythagorean triple found: 5, 12, 13\n",
      "Pythagorean triple found: 6, 8, 10\n",
      "Pythagorean triple found: 8, 15, 17\n",
      "Pythagorean triple found: 9, 12, 15\n",
      "Pythagorean triple found: 12, 16, 20\n"
     ]
    }
   ],
   "source": [
    "for side1 in range(1, 21):\n",
    "    for side2 in range(side1, 21):\n",
    "        for hypotenuse in range(side2, 21):\n",
    "            if side1**2 + side2**2 == hypotenuse**2:\n",
    "                print(f\"Pythagorean triple found: {side1}, {side2}, {hypotenuse}\")\n"
   ]
  },
  {
   "cell_type": "code",
   "execution_count": 60,
   "id": "ac446c9b-e1d7-45aa-85e6-70aa3d3a7b1d",
   "metadata": {},
   "outputs": [
    {
     "name": "stdin",
     "output_type": "stream",
     "text": [
      "Enter the current world population:  100000000\n",
      "Enter the current growth rate (as a percentage):  0.5\n"
     ]
    },
    {
     "name": "stdout",
     "output_type": "stream",
     "text": [
      "\n",
      "Year  Population     Growth         \n",
      "------------------------------\n",
      "1     100500000      500000         \n",
      "2     101002500      502500         \n",
      "3     101507512      505012         \n",
      "4     102015050      507537         \n",
      "5     102525125      510075         \n",
      "6     103037750      512625         \n",
      "7     103552939      515188         \n",
      "8     104070704      517764         \n",
      "9     104591057      520353         \n",
      "10    105114013      522955         \n",
      "11    105639583      525570         \n",
      "12    106167781      528197         \n",
      "13    106698620      530838         \n",
      "14    107232113      533493         \n",
      "15    107768273      536160         \n",
      "16    108307115      538841         \n",
      "17    108848650      541535         \n",
      "18    109392893      544243         \n",
      "19    109939858      546964         \n",
      "20    110489557      549699         \n",
      "21    111042005      552447         \n",
      "22    111597215      555210         \n",
      "23    112155201      557986         \n",
      "24    112715977      560776         \n",
      "25    113279557      563579         \n",
      "26    113845955      566397         \n",
      "27    114415185      569229         \n",
      "28    114987260      572075         \n",
      "29    115562197      574936         \n",
      "30    116140008      577810         \n",
      "31    116720708      580700         \n",
      "32    117304311      583603         \n",
      "33    117890833      586521         \n",
      "34    118480287      589454         \n",
      "35    119072689      592401         \n",
      "36    119668052      595363         \n",
      "37    120266392      598340         \n",
      "38    120867724      601331         \n",
      "39    121472063      604338         \n",
      "40    122079423      607360         \n",
      "41    122689820      610397         \n",
      "42    123303269      613449         \n",
      "43    123919786      616516         \n",
      "44    124539385      619598         \n",
      "45    125162082      622696         \n",
      "46    125787892      625810         \n",
      "47    126416831      628939         \n",
      "48    127048916      632084         \n",
      "49    127684160      635244         \n",
      "50    128322581      638420         \n",
      "51    128964194      641612         \n",
      "52    129609015      644820         \n",
      "53    130257060      648045         \n",
      "54    130908345      651285         \n",
      "55    131562887      654541         \n",
      "56    132220701      657814         \n",
      "57    132881805      661103         \n",
      "58    133546214      664409         \n",
      "59    134213945      667731         \n",
      "60    134885015      671069         \n",
      "61    135559440      674425         \n",
      "62    136237237      677797         \n",
      "63    136918423      681186         \n",
      "64    137603015      684592         \n",
      "65    138291030      688015         \n",
      "66    138982486      691455         \n",
      "67    139677398      694912         \n",
      "68    140375785      698386         \n",
      "69    141077664      701878         \n",
      "70    141783052      705388         \n",
      "71    142491968      708915         \n",
      "72    143204427      712459         \n",
      "73    143920449      716022         \n",
      "74    144640052      719602         \n",
      "75    145363252      723200         \n",
      "76    146090068      726816         \n",
      "77    146820519      730450         \n",
      "78    147554621      734102         \n",
      "79    148292394      737773         \n",
      "80    149033856      741461         \n",
      "81    149779026      745169         \n",
      "82    150527921      748895         \n",
      "83    151280560      752639         \n",
      "84    152036963      756402         \n",
      "85    152797148      760184         \n",
      "86    153561134      763985         \n",
      "87    154328939      767805         \n",
      "88    155100584      771644         \n",
      "89    155876087      775502         \n",
      "90    156655467      779380         \n",
      "91    157438745      783277         \n",
      "92    158225938      787193         \n",
      "93    159017068      791129         \n",
      "94    159812154      795085         \n",
      "95    160611214      799060         \n",
      "96    161414270      803056         \n",
      "97    162221342      807071         \n",
      "98    163032448      811106         \n",
      "99    163847611      815162         \n",
      "100   164666849      819238         \n"
     ]
    }
   ],
   "source": [
    "current_population = int(input(\"Enter the current world population: \"))\n",
    "growth_rate = float(input(\"Enter the current growth rate (as a percentage): \"))\n",
    "\n",
    "growth_rate /= 100\n",
    "\n",
    "print(f\"\\n{'Year':<6}{'Population':<15}{'Growth':<15}\")\n",
    "print('-' * 30)\n",
    "\n",
    "for year in range(1, 101):\n",
    "    growth = current_population * growth_rate\n",
    "    current_population += growth\n",
    "    print(f\"{year:<6}{int(current_population):<15}{int(growth):<15}\")"
   ]
  },
  {
   "cell_type": "markdown",
   "id": "f8b67d89-f6e3-46af-a61c-8c91ba46a879",
   "metadata": {},
   "source": [
    "# Lab-4 (30/09/2024)"
   ]
  },
  {
   "cell_type": "code",
   "execution_count": 2,
   "id": "91e06abb-b2c1-4455-baf9-d29c7beaf803",
   "metadata": {},
   "outputs": [
    {
     "name": "stdin",
     "output_type": "stream",
     "text": [
      "Enter the height of the person in feet:  5.5\n"
     ]
    },
    {
     "name": "stdout",
     "output_type": "stream",
     "text": [
      "The person is not tall\n"
     ]
    }
   ],
   "source": [
    "#Write a Python program to imput the height of the person and check if the height of the person is greater than or equal to is feet then print the message \"The person is tall\".\n",
    "\n",
    "height = float(input(\"Enter the height of the person in feet: \"))\n",
    "if height >= 6:\n",
    "    print(\"The person is tall\")\n",
    "else:\n",
    "    print(\"The person is not tall\")"
   ]
  },
  {
   "cell_type": "code",
   "execution_count": 4,
   "id": "4f79edfa-31e9-4749-ba39-1c8cb3c2102d",
   "metadata": {},
   "outputs": [
    {
     "name": "stdin",
     "output_type": "stream",
     "text": [
      "Enter the mark of the student:  95\n"
     ]
    },
    {
     "name": "stdout",
     "output_type": "stream",
     "text": [
      "Congratulations! You have passed the exam.\n"
     ]
    }
   ],
   "source": [
    "# Write a Python program to input the mark of a student and check if the student mark is greater than or equal to 40, then it generates the following message.\n",
    "# “Congratulation! You have passed the exam.”\n",
    "# Otherwise the output message is\n",
    "# “Sorry! You have failed the exam.”\n",
    "\n",
    "mark = float(input(\"Enter the mark of the student: \"))\n",
    "if mark >= 40:\n",
    "    print(\"Congratulations! You have passed the exam.\")\n",
    "else:\n",
    "    print(\"Sorry! You have failed the exam.\")\n"
   ]
  },
  {
   "cell_type": "code",
   "execution_count": 6,
   "id": "caa4ffad-9701-4678-ab3b-b62021f0d4c5",
   "metadata": {},
   "outputs": [
    {
     "name": "stdin",
     "output_type": "stream",
     "text": [
      "Enter an integer:  16\n"
     ]
    },
    {
     "name": "stdout",
     "output_type": "stream",
     "text": [
      "16 is an even number.\n"
     ]
    }
   ],
   "source": [
    "# Input an integer through the keyboard. Write a Python program to find out whether it is an odd number or even number\n",
    "\n",
    "number = int(input(\"Enter an integer: \"))\n",
    "if number % 2 == 0:\n",
    "    print(f\"{number} is an even number.\")\n",
    "else:\n",
    "    print(f\"{number} is an odd number.\")"
   ]
  },
  {
   "cell_type": "code",
   "execution_count": 12,
   "id": "b1d1957a-5a17-4e10-8dc5-c979dfa6d75b",
   "metadata": {},
   "outputs": [
    {
     "name": "stdin",
     "output_type": "stream",
     "text": [
      "Enter a character:  6\n"
     ]
    },
    {
     "name": "stdout",
     "output_type": "stream",
     "text": [
      "6 is a digit.\n"
     ]
    }
   ],
   "source": [
    "# Any character is entered through the keyboard; write a Python program to determine\n",
    "# whether the character entered is a capital letter, a small case letter, a digit or a special symbol. The following table shows the range of ASCII values for various characters. Characters ASCII Values\n",
    "# A – Z 65 – 90\n",
    "# a – z 97 – 122\n",
    "# 0 – 9 48 – 57\n",
    "# special symbols 0 - 47, 58 - 64, 91 - 96, 123 – 127\n",
    "\n",
    "char = input(\"Enter a character: \")\n",
    "ascii_value = ord(char)\n",
    "if 65 <= ascii_value <= 90:\n",
    "    print(f\"{char} is a capital letter.\")\n",
    "elif 97 <= ascii_value <= 122:\n",
    "    print(f\"{char} is a small case letter.\")\n",
    "elif 48 <= ascii_value <= 57:\n",
    "    print(f\"{char} is a digit.\")\n",
    "elif (0 <= ascii_value <= 47) or (58 <= ascii_value <= 64) or (91 <= ascii_value <= 96) or (123 <= ascii_value <= 127):\n",
    "    print(f\"{char} is a special symbol.\")\n",
    "else:\n",
    "    print(\"Invalid input.\")\n"
   ]
  },
  {
   "cell_type": "code",
   "execution_count": 14,
   "id": "ff71cd23-dd23-45c3-9817-2aef41f0a7b0",
   "metadata": {},
   "outputs": [
    {
     "name": "stdin",
     "output_type": "stream",
     "text": [
      "Enter value for a:  1\n",
      "Enter value for b:  2\n",
      "Enter value for c:  3\n"
     ]
    },
    {
     "name": "stdout",
     "output_type": "stream",
     "text": [
      "The equation has no real roots.\n"
     ]
    }
   ],
   "source": [
    "# Write a Python program that prompts the user to enter values for a, b, and c and displays the result based on the discriminant. If the discriminant is positive, display two roots. If the discriminant is 0, display one root. Otherwise, display “The equation has no real roots”\n",
    "\n",
    "import math\n",
    "a = float(input(\"Enter value for a: \"))\n",
    "b = float(input(\"Enter value for b: \"))\n",
    "c = float(input(\"Enter value for c: \"))\n",
    "discriminant = b**2 - 4*a*c\n",
    "if discriminant > 0:\n",
    "    r1 = (-b + math.sqrt(discriminant)) / (2*a)\n",
    "    r2 = (-b - math.sqrt(discriminant)) / (2*a)\n",
    "    print(f\"The equation has two roots: {r1} and {r2}\")\n",
    "elif discriminant == 0:\n",
    "    r1 = -b / (2*a)\n",
    "    print(f\"The equation has one root: {r1}\")\n",
    "else:\n",
    "    print(\"The equation has no real roots.\")\n"
   ]
  },
  {
   "cell_type": "code",
   "execution_count": 16,
   "id": "4f4ad3c7-12e2-4b82-bd96-adc5062081d1",
   "metadata": {},
   "outputs": [
    {
     "name": "stdin",
     "output_type": "stream",
     "text": [
      "Enter value for a:  01\n",
      "Enter value for b:  02\n",
      "Enter value for c:  03\n",
      "Enter value for d:  04\n",
      "Enter value for e:  05\n",
      "Enter value for f:  06\n"
     ]
    },
    {
     "name": "stdout",
     "output_type": "stream",
     "text": [
      "x is -4.0 and y is 4.5\n"
     ]
    }
   ],
   "source": [
    "# Write a Python program that prompts the user to enter a, b, c, d, e, and f and displays the result. If ad - bc is 0, report that “The equation has no solution.”\n",
    "\n",
    "a = float(input(\"Enter value for a: \"))\n",
    "b = float(input(\"Enter value for b: \"))\n",
    "c = float(input(\"Enter value for c: \"))\n",
    "d = float(input(\"Enter value for d: \"))\n",
    "e = float(input(\"Enter value for e: \"))\n",
    "f = float(input(\"Enter value for f: \"))\n",
    "denominator = a * d - b * c\n",
    "if denominator == 0:\n",
    "    print(\"The equation has no solution.\")\n",
    "else:\n",
    "    x = (e * d - b * f) / denominator\n",
    "    y = (a * f - e * c) / denominator\n",
    "    print(f\"x is {x} and y is {y}\")"
   ]
  },
  {
   "cell_type": "code",
   "execution_count": 18,
   "id": "02b6446c-6ade-47a5-b477-23023beb2043",
   "metadata": {},
   "outputs": [
    {
     "name": "stdin",
     "output_type": "stream",
     "text": [
      "Enter the x-coordinate:  0.0\n",
      "Enter the y-coordinate:  4.8\n"
     ]
    },
    {
     "name": "stdout",
     "output_type": "stream",
     "text": [
      "The point lies on the y-axis.\n"
     ]
    }
   ],
   "source": [
    "# Write a Python program that takes the x – y coordinates of a point in the Cartesian plane and prints a message telling either an axis on which the point lies or the quadrant in which it is found.\n",
    "\n",
    "x = float(input(\"Enter the x-coordinate: \"))\n",
    "y = float(input(\"Enter the y-coordinate: \"))\n",
    "if x == 0 and y == 0:\n",
    "    print(\"The point lies at the origin.\")\n",
    "elif x == 0:\n",
    "    print(\"The point lies on the y-axis.\")\n",
    "elif y == 0:\n",
    "    print(\"The point lies on the x-axis.\")\n",
    "elif x > 0 and y > 0:\n",
    "    print(\"The point is in the first quadrant.\")\n",
    "elif x < 0 and y > 0:\n",
    "    print(\"The point is in the second quadrant.\")\n",
    "elif x < 0 and y < 0:\n",
    "    print(\"The point is in the third quadrant.\")\n",
    "elif x > 0 and y < 0:\n",
    "    print(\"The point is in the fourth quadrant.\")\n"
   ]
  },
  {
   "cell_type": "code",
   "execution_count": 20,
   "id": "648ce2e7-084f-4c56-b4e2-f061981097b3",
   "metadata": {},
   "outputs": [
    {
     "name": "stdin",
     "output_type": "stream",
     "text": [
      "Enter the age of Rahul:  50\n",
      "Enter the age of Ayush:  45\n",
      "Enter the age of Ajay:  48\n"
     ]
    },
    {
     "name": "stdout",
     "output_type": "stream",
     "text": [
      "Rahul is the eldest.\n"
     ]
    }
   ],
   "source": [
    "# If the ages of Rahul, Ayush and Ajay are input through the keyboard, write a Python program to determine the elder among them.\n",
    "\n",
    "age_rahul = int(input(\"Enter the age of Rahul: \"))\n",
    "age_ayush = int(input(\"Enter the age of Ayush: \"))\n",
    "age_ajay = int(input(\"Enter the age of Ajay: \"))\n",
    "if age_rahul > age_ayush and age_rahul > age_ajay:\n",
    "    print(\"Rahul is the eldest.\")\n",
    "elif age_ayush > age_rahul and age_ayush > age_ajay:\n",
    "    print(\"Ayush is the eldest.\")\n",
    "elif age_ajay > age_rahul and age_ajay > age_ayush:\n",
    "    print(\"Ajay is the eldest.\")\n",
    "else:\n",
    "    print(\"There is a tie in ages.\")\n"
   ]
  },
  {
   "cell_type": "code",
   "execution_count": 24,
   "id": "c82cbca7-ebed-4524-a948-966448d29ba7",
   "metadata": {},
   "outputs": [
    {
     "name": "stdout",
     "output_type": "stream",
     "text": [
      "The month corresponding to the number 1 is January.\n"
     ]
    }
   ],
   "source": [
    "# Write a Python program that randomly generates an integer between 1 and 12 and displays the English month name January, February… December for the number 1, 2… 12, accordingly.\n",
    "\n",
    "import random\n",
    "random_month_number = random.randint(1, 12)\n",
    "if random_month_number == 1:\n",
    "    month_name = \"January\"\n",
    "elif random_month_number == 2:\n",
    "    month_name = \"February\"\n",
    "elif random_month_number == 3:\n",
    "    month_name = \"March\"\n",
    "elif random_month_number == 4:\n",
    "    month_name = \"April\"\n",
    "elif random_month_number == 5:\n",
    "    month_name = \"May\"\n",
    "elif random_month_number == 6:\n",
    "    month_name = \"June\"\n",
    "elif random_month_number == 7:\n",
    "    month_name = \"July\"\n",
    "elif random_month_number == 8:\n",
    "    month_name = \"August\"\n",
    "elif random_month_number == 9:\n",
    "    month_name = \"September\"\n",
    "elif random_month_number == 10:\n",
    "    month_name = \"October\"\n",
    "elif random_month_number == 11:\n",
    "    month_name = \"November\"\n",
    "else:\n",
    "    month_name = \"December\"\n",
    "print(f\"The month corresponding to the number {random_month_number} is {month_name}.\")"
   ]
  },
  {
   "cell_type": "code",
   "execution_count": 27,
   "id": "9e902845-f766-4c02-bf5c-cdc9e4ef9dbf",
   "metadata": {},
   "outputs": [
    {
     "name": "stdin",
     "output_type": "stream",
     "text": [
      "Enter today's day of the week (Sunday is 0, Monday is 1, ..., Saturday is 6):  5\n",
      "Enter the number of days to add:  15\n"
     ]
    },
    {
     "name": "stdout",
     "output_type": "stream",
     "text": [
      "The future day of the week is: Saturday.\n"
     ]
    }
   ],
   "source": [
    "# Write a Python program that prompts the user to enter an integer for today’s day of the week (Sunday is 0, Monday is 1… and Saturday is 6). Also prompt the user to enter the number of days after today for a future day and display the future day of the week.\n",
    "today = int(input(\"Enter today's day of the week (Sunday is 0, Monday is 1, ..., Saturday is 6): \"))\n",
    "days_to_add = int(input(\"Enter the number of days to add: \"))\n",
    "future_day = (today + days_to_add) % 7\n",
    "\n",
    "if future_day == 0:\n",
    "    future_day_name = \"Sunday\"\n",
    "elif future_day == 1:\n",
    "    future_day_name = \"Monday\"\n",
    "elif future_day == 2:\n",
    "    future_day_name = \"Tuesday\"\n",
    "elif future_day == 3:\n",
    "    future_day_name = \"Wednesday\"\n",
    "elif future_day == 4:\n",
    "    future_day_name = \"Thursday\"\n",
    "elif future_day == 5:\n",
    "    future_day_name = \"Friday\"\n",
    "else:\n",
    "    future_day_name = \"Saturday\"\n",
    "\n",
    "print(f\"The future day of the week is: {future_day_name}.\")\n"
   ]
  },
  {
   "cell_type": "code",
   "execution_count": 29,
   "id": "f2380126-7a1c-4b15-8aeb-a443c49e804a",
   "metadata": {},
   "outputs": [
    {
     "name": "stdin",
     "output_type": "stream",
     "text": [
      "Enter your weight in kilograms:  58\n",
      "Enter your height in meters:  46\n"
     ]
    },
    {
     "name": "stdout",
     "output_type": "stream",
     "text": [
      "Your BMI is: 0.03\n",
      "You are categorized as: Underweight.\n"
     ]
    }
   ],
   "source": [
    "# The body mass index (BMI) is commonly used by health and nutrition professionals to estimate human body fat in populations. It is computed by taking the individual's weight (mass) in kilograms and dividing it by the square of their height in meters.\n",
    "# Write a Python program by using some if statements to show the category for a given BMI.\n",
    "\n",
    "def calculate_bmi(weight, height):\n",
    "    return weight / (height ** 2)\n",
    "\n",
    "weight = float(input(\"Enter your weight in kilograms: \"))\n",
    "height = float(input(\"Enter your height in meters: \"))\n",
    "bmi = calculate_bmi(weight, height)\n",
    "print(f\"Your BMI is: {bmi:.2f}\")\n",
    "if bmi < 18.5:\n",
    "    category = \"Underweight\"\n",
    "elif 18.5 <= bmi < 24.9:\n",
    "    category = \"Normal weight\"\n",
    "elif 25 <= bmi < 29.9:\n",
    "    category = \"Overweight\"\n",
    "else:\n",
    "    category = \"Obesity\"\n",
    "print(f\"You are categorized as: {category}.\")\n",
    "\n"
   ]
  },
  {
   "cell_type": "code",
   "execution_count": null,
   "id": "70875d1a-5980-4fc1-9a1a-2613cc0047fe",
   "metadata": {},
   "outputs": [],
   "source": [
    "# Write a Python program that prompts the user to enter three integers and display the integers in non-decreasing order.\n",
    "\n",
    "num1 = int(input(\"Enter the first integer: \"))\n",
    "num2 = int(input(\"Enter the second integer: \"))\n",
    "num3 = int(input(\"Enter the third integer: \"))\n",
    "if num1 <= num2 and num1 <= num3:\n",
    "    smallest = num1\n",
    "    if num2 <= num3:\n",
    "        middle = num2\n",
    "        largest = num3\n",
    "    else:\n",
    "        middle = num3\n",
    "        largest = num2\n",
    "elif num2 <= num1 and num2 <= num3:\n",
    "    smallest = num2\n",
    "    if num1 <= num3:\n",
    "        middle = num1\n",
    "        largest = num3\n",
    "    else:\n",
    "        middle = num3\n",
    "        largest = num1\n",
    "else:\n",
    "    smallest = num3\n",
    "    if num1 <= num2:\n",
    "        middle = num1\n",
    "        largest = num2\n",
    "    else:\n",
    "        middle = num2\n",
    "        largest = num1\n",
    "print(\"The integers in non-decreasing order are:\", smallest, middle, largest)\n"
   ]
  },
  {
   "cell_type": "code",
   "execution_count": null,
   "id": "6a955bad-6fdd-4029-a2a1-1c04a0e35aef",
   "metadata": {},
   "outputs": [],
   "source": [
    "# Write a Python program that prompts the user to enter the month and year and displays the number of days in the month. For example, if the user entered month 2 and year 2012, the program should display that February 2012 had 29 days. If the user entered month 3 and year 2015, the program should display that March 2015 had 31 days.\n",
    "\n",
    "def is_leap_year(year):\n",
    "    return (year % 4 == 0 and year % 100 != 0) or (year % 400 == 0)\n",
    "month = int(input(\"Enter the month (1-12): \"))\n",
    "year = int(input(\"Enter the year: \"))\n",
    "if month == 1:\n",
    "    days = 31\n",
    "    month_name = \"January\"\n",
    "elif month == 2: \n",
    "    if is_leap_year(year):\n",
    "        days = 29\n",
    "    else:\n",
    "        days = 28\n",
    "    month_name = \"February\"\n",
    "elif month == 3:\n",
    "    days = 31\n",
    "    month_name = \"March\"\n",
    "elif month == 4: \n",
    "    days = 30\n",
    "    month_name = \"April\"\n",
    "elif month == 5:  \n",
    "    days = 31\n",
    "    month_name = \"May\"\n",
    "elif month == 6:\n",
    "    days = 30\n",
    "    month_name = \"June\"\n",
    "elif month == 7: \n",
    "    days = 31\n",
    "    month_name = \"July\"\n",
    "elif month == 8:\n",
    "    days = 31\n",
    "    month_name = \"August\"\n",
    "elif month == 9:  \n",
    "    days = 30\n",
    "    month_name = \"September\"\n",
    "elif month == 10: \n",
    "    days = 31\n",
    "    month_name = \"October\"\n",
    "elif month == 11:  \n",
    "    days = 30\n",
    "    month_name = \"November\"\n",
    "elif month == 12: \n",
    "    days = 31\n",
    "    month_name = \"December\"\n",
    "else:\n",
    "    print(\"Invalid month. Please enter a number between 1 and 12.\")\n",
    "    exit()\n",
    "print(f\"{month_name} {year} had {days} days.\")\n"
   ]
  },
  {
   "cell_type": "code",
   "execution_count": 31,
   "id": "066084b7-ef1b-4590-9482-e1d40db14978",
   "metadata": {},
   "outputs": [
    {
     "name": "stdin",
     "output_type": "stream",
     "text": [
      "Enter your choice (0 for Scissor, 1 for Rock, 2 for Paper):  2\n"
     ]
    },
    {
     "name": "stdout",
     "output_type": "stream",
     "text": [
      "You chose: Paper\n",
      "Computer chose: Scissor\n",
      "You lose!\n"
     ]
    }
   ],
   "source": [
    " # Write a Python program that plays the popular scissor-rock-paper game. (A scissor can cut a paper, a rock can knock a scissor, and a paper can wrap a rock.) The program randomly generates a number 0, 1, or 2 representing scissor, rock, and paper. The program prompts the user to enter a number 0, 1, or 2 and displays a message indicating whether the user or the computer wins, loses, or draws.\n",
    "\n",
    "import random\n",
    "def get_choice_name(choice):\n",
    "    if choice == 0:\n",
    "        return \"Scissor\"\n",
    "    elif choice == 1:\n",
    "        return \"Rock\"\n",
    "    elif choice == 2:\n",
    "        return \"Paper\"\n",
    "    else:\n",
    "        return \"Invalid choice\"\n",
    "\n",
    "def play_game():\n",
    "    computer_choice = random.randint(0, 2)\n",
    "    user_choice = int(input(\"Enter your choice (0 for Scissor, 1 for Rock, 2 for Paper): \"))\n",
    "    user_choice_name = get_choice_name(user_choice)\n",
    "    computer_choice_name = get_choice_name(computer_choice)\n",
    "    print(f\"You chose: {user_choice_name}\")\n",
    "    print(f\"Computer chose: {computer_choice_name}\")\n",
    "    if user_choice == computer_choice:\n",
    "        print(\"It's a draw!\")\n",
    "    elif (user_choice == 0 and computer_choice == 2) or \\\n",
    "         (user_choice == 1 and computer_choice == 0) or \\\n",
    "         (user_choice == 2 and computer_choice == 1):\n",
    "        print(\"You win!\")\n",
    "    elif (user_choice == 0 and computer_choice == 1) or \\\n",
    "         (user_choice == 1 and computer_choice == 2) or \\\n",
    "         (user_choice == 2 and computer_choice == 0):\n",
    "        print(\"You lose!\")\n",
    "    else:\n",
    "        print(\"Invalid choice. Please enter 0, 1, or 2.\")\n",
    "play_game()\n"
   ]
  },
  {
   "cell_type": "code",
   "execution_count": 33,
   "id": "e944cf06-4d9c-4a19-849b-2388f58a0827",
   "metadata": {},
   "outputs": [
    {
     "name": "stdin",
     "output_type": "stream",
     "text": [
      "Enter the x-coordinate of the point:  5\n",
      "Enter the y-coordinate of the point:  4\n"
     ]
    },
    {
     "name": "stdout",
     "output_type": "stream",
     "text": [
      "The point (5.0, 4.0) is inside the circle with radius 10.\n"
     ]
    }
   ],
   "source": [
    "# Write a Python program that prompts the user to enter a point (x, y) and checks whether the point is within the circle centered at (0, 0) with radius 10. For example, (4, 5) is inside the circle and (9, 9) is outside the circle,\n",
    "\n",
    "def is_point_in_circle(x, y, radius):\n",
    "    return (x**2 + y**2) <= radius**2\n",
    "    \n",
    "x = float(input(\"Enter the x-coordinate of the point: \"))\n",
    "y = float(input(\"Enter the y-coordinate of the point: \"))\n",
    "radius = 10\n",
    "if is_point_in_circle(x, y, radius):\n",
    "    print(f\"The point ({x}, {y}) is inside the circle with radius {radius}.\")\n",
    "else:\n",
    "    print(f\"The point ({x}, {y}) is outside the circle with radius {radius}.\")\n",
    "\n"
   ]
  },
  {
   "cell_type": "code",
   "execution_count": null,
   "id": "90fcb46c-1c55-42ad-a87c-d2fc130043b1",
   "metadata": {},
   "outputs": [],
   "source": [
    "# A University conducts a 100 mark exam for its student and grades them as follows. Assigns a grade based on the value of the marks. Write a Python program to print the grade according to the mark secured by the student.\n"
   ]
  },
  {
   "cell_type": "code",
   "execution_count": 1,
   "id": "0d62d329-7a0e-4de7-80c9-11641b04744f",
   "metadata": {},
   "outputs": [
    {
     "name": "stdin",
     "output_type": "stream",
     "text": [
      "Is it raining? (yes/no):  yes\n"
     ]
    },
    {
     "name": "stdout",
     "output_type": "stream",
     "text": [
      "Carry an umbrella.\n"
     ]
    }
   ],
   "source": [
    "#Assignment- 2\n",
    "\n",
    "# Question - 1\n",
    "\n",
    "is_raining = input(\"Is it raining? (yes/no): \")\n",
    "if is_raining.lower() == \"yes\":\n",
    "    print(\"Carry an umbrella.\")\n",
    "else:\n",
    "    print(\"Bye.\")"
   ]
  },
  {
   "cell_type": "code",
   "execution_count": null,
   "id": "08c09e0d-4131-440f-8f4e-73b93ef879c9",
   "metadata": {},
   "outputs": [],
   "source": [
    "# Question - 2\n",
    "\n",
    "is_raining = input(\"Is it raining? (yes/no): \")\n",
    "\n",
    "if is_raining.lower() == \"yes\":\n",
    "    print(\"Carry an umbrella.\")\n",
    "elif is_raining.lower() == \"no\":\n",
    "    print(\"No need to carry an umbrella.\")\n",
    "else:\n",
    "    print(\"Bye.\")"
   ]
  },
  {
   "cell_type": "code",
   "execution_count": null,
   "id": "a68fd7d6-1cb3-48ea-9f25-90204cd0cff6",
   "metadata": {},
   "outputs": [],
   "source": [
    "# Question - 3\n",
    "\n",
    "score = float(input(\"Enter the student's score (0-100): \"))\n",
    "if 90 <= score <= 100:\n",
    "    grade = \"A\"\n",
    "    comment = \"Excellent\"\n",
    "elif 80 <= score < 90:\n",
    "    grade = \"B\"\n",
    "    comment = \"Good\"\n",
    "elif 70 <= score < 80:\n",
    "    grade = \"C\"\n",
    "    comment = \"Average\"\n",
    "elif 60 <= score < 70:\n",
    "    grade = \"D\"\n",
    "    comment = \"Needs Improvement\"\n",
    "elif score < 60:\n",
    "    grade = \"F\"\n",
    "    comment = \"Failing\"\n",
    "else:\n",
    "    grade = \"Invalid\"\n",
    "    comment = \"Invalid score entered.\"\n",
    "\n",
    "if grade != \"Invalid\":\n",
    "    print(f\"Grade: {grade} - {comment}\")\n",
    "else:\n",
    "    print(comment)\n"
   ]
  },
  {
   "cell_type": "code",
   "execution_count": null,
   "id": "6ccfa6eb-a477-4e77-be1c-be16439b4007",
   "metadata": {},
   "outputs": [],
   "source": [
    "# Question - 4\n",
    "\n",
    "side1 = float(input(\"Enter the length of the first side: \"))\n",
    "side2 = float(input(\"Enter the length of the second side: \"))\n",
    "side3 = float(input(\"Enter the length of the third side: \"))\n",
    "\n",
    "if (side1 + side2 > side3) and (side1 + side3 > side2) and (side2 + side3 > side1):\n",
    "    if side1 == side2 == side3:\n",
    "        triangle_type = \"Equilateral\"\n",
    "    elif side1 == side2 or side1 == side3 or side2 == side3:\n",
    "        triangle_type = \"Isosceles\"\n",
    "    else:\n",
    "        triangle_type = \"Scalene\"\n",
    "\n",
    "    print(f\"The triangle is {triangle_type}.\")\n",
    "else:\n",
    "    print(\"The lengths provided cannot form a valid triangle.\")\n"
   ]
  },
  {
   "cell_type": "code",
   "execution_count": null,
   "id": "04994597-931d-4966-aafb-afbd24c5437d",
   "metadata": {},
   "outputs": [],
   "source": [
    "# Question - 5\n",
    "\n",
    "number = int(input(\"Enter an integer: \"))\n",
    "if number % 2 == 0:\n",
    "    print(f\"{number} is even.\")\n",
    "else:\n",
    "    print(f\"{number} is odd.\")\n"
   ]
  },
  {
   "cell_type": "code",
   "execution_count": null,
   "id": "5a903390-dc04-4268-8dc7-f23fffd1431e",
   "metadata": {},
   "outputs": [],
   "source": [
    "# Question - 6\n",
    "\n"
   ]
  },
  {
   "cell_type": "code",
   "execution_count": null,
   "id": "8fe10ffe-48a4-40fe-b406-1f7f01b7ce5b",
   "metadata": {},
   "outputs": [],
   "source": [
    "# Question - 7\n",
    "\n",
    "limit = int(input(\"Enter a number: \"))\n",
    "prime_sum = 0\n",
    "for num in range(2, limit):\n",
    "    is_prime = True\n",
    "    for i in range(2, int(num ** 0.5) + 1):\n",
    "        if num % i == 0:\n",
    "            is_prime = False\n",
    "            break\n",
    "    if is_prime:\n",
    "        prime_sum += num\n",
    "print(f\"The sum of all prime numbers less than {limit} is {prime_sum}.\")\n"
   ]
  },
  {
   "cell_type": "code",
   "execution_count": 5,
   "id": "091005a7-39a3-48a6-9df2-d728ebabeca1",
   "metadata": {},
   "outputs": [
    {
     "name": "stdin",
     "output_type": "stream",
     "text": [
      "Enter a string:  abc\n"
     ]
    },
    {
     "name": "stdout",
     "output_type": "stream",
     "text": [
      "a\n",
      "ab\n",
      "abc\n",
      "b\n",
      "bc\n",
      "c\n"
     ]
    }
   ],
   "source": [
    "# Question - 10\n",
    "input_string = input(\"Enter a string: \")\n",
    "n = len(input_string)\n",
    "for i in range(n):\n",
    "    substring = \"\"\n",
    "    for j in range(i, n):\n",
    "        substring += input_string[j]\n",
    "        print(substring)"
   ]
  },
  {
   "cell_type": "code",
   "execution_count": null,
   "id": "7f1b3303-5418-4645-971d-83b07c7b0a05",
   "metadata": {},
   "outputs": [],
   "source": [
    "# Question - 11\n",
    "\n",
    "while True:\n",
    "    user_input = input(\"Enter 'exit' to quit or press Enter to continue: \")\n",
    "    if user_input.lower() == 'exit':\n",
    "        print(\"Exiting the calculator. Goodbye!\")\n",
    "        break\n",
    "    try:\n",
    "        num1 = float(input(\"Enter the first number: \"))\n",
    "        num2 = float(input(\"Enter the second number: \"))\n",
    "        operator = input(\"Enter an operator (+, -, *, /): \")\n",
    "        if operator == '+':\n",
    "            result = num1 + num2\n",
    "            print(f\"The result of {num1} + {num2} is: {result}\")\n",
    "        elif operator == '-':\n",
    "            result = num1 - num2\n",
    "            print(f\"The result of {num1} - {num2} is: {result}\")\n",
    "        elif operator == '*':\n",
    "            result = num1 * num2\n",
    "            print(f\"The result of {num1} * {num2} is: {result}\")\n",
    "        elif operator == '/':\n",
    "            if num2 != 0:\n",
    "                result = num1 / num2\n",
    "                print(f\"The result of {num1} / {num2} is: {result}\")\n",
    "            else:\n",
    "                print(\"Error: Division by zero\")\n",
    "        else:\n",
    "            print(\"Invalid operator. Please use +, -, *, or /.\")\n",
    "    except ValueError:\n",
    "        print(\"Invalid input. Please enter numeric values for the numbers.\")\n"
   ]
  }
 ],
 "metadata": {
  "kernelspec": {
   "display_name": "Python 3 (ipykernel)",
   "language": "python",
   "name": "python3"
  },
  "language_info": {
   "codemirror_mode": {
    "name": "ipython",
    "version": 3
   },
   "file_extension": ".py",
   "mimetype": "text/x-python",
   "name": "python",
   "nbconvert_exporter": "python",
   "pygments_lexer": "ipython3",
   "version": "3.11.7"
  }
 },
 "nbformat": 4,
 "nbformat_minor": 5
}
