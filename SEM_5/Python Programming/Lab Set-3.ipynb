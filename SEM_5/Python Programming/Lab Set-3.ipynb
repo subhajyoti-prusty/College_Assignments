{
 "cells": [
  {
   "cell_type": "code",
   "execution_count": 29,
   "id": "0e06ab7f-95d0-4f05-9e54-10762a27dcf4",
   "metadata": {},
   "outputs": [
    {
     "name": "stdout",
     "output_type": "stream",
     "text": [
      "[83, 88, 32, 71, 92, 78, 62, 78, 70, 6]\n",
      "[6, 32, 62, 70, 71, 78, 78, 83, 88, 92]\n",
      "88\n",
      "32\n",
      "[6, 32, 62, 70, 78, 78, 88, 92]\n",
      "[71, 83]\n",
      "[92, 88, 83, 78, 78, 71, 70, 62, 32, 6]\n"
     ]
    }
   ],
   "source": [
    "import random\n",
    "n = 10\n",
    "random_list = []\n",
    "for i in range(n):\n",
    "    random_list.append(random.randint(1,100))\n",
    "print(random_list)\n",
    "\n",
    "\n",
    "random_list.sort()\n",
    "print(random_list)\n",
    "\n",
    "print(random_list[-2])\n",
    "print(random_list[1])\n",
    "\n",
    "\n",
    "even_list = list(filter(lambda x:x%2 == 0,random_list))\n",
    "odd_list = list(filter(lambda x:x%2 != 0,random_list))\n",
    "\n",
    "print(even_list)\n",
    "print(odd_list)\n",
    "\n",
    "\n",
    "random_list.sort(reverse = True)\n",
    "print(random_list)"
   ]
  },
  {
   "cell_type": "code",
   "execution_count": 25,
   "id": "37383ead-7bf4-4bc2-991b-cc51a0868add",
   "metadata": {},
   "outputs": [
    {
     "name": "stdin",
     "output_type": "stream",
     "text": [
      "Enter a sentence:  Hello     i    am subhajyoti prusty   nice to meet u \n"
     ]
    },
    {
     "name": "stdout",
     "output_type": "stream",
     "text": [
      "Cleaned Sentence: 'Hello i am subhajyoti prusty nice to meet u'\n",
      "Number of words: 9\n",
      "Letter Frequency:\n",
      "{'h': 2, 'e': 4, 'l': 2, 'o': 3, 'i': 3, 'a': 2, 'm': 2, 's': 2, 'u': 3, 'b': 1, 'j': 1, 'y': 2, 't': 4, 'p': 1, 'r': 1, 'n': 1, 'c': 1}\n",
      "The most occurred alphabet is 'e' with a frequency of 4.\n"
     ]
    }
   ],
   "source": [
    "def count_words(sentence):\n",
    "    cleaned_sentence = ' '.join(sentence.split())\n",
    "    words = cleaned_sentence.split()\n",
    "    word_count = len(words)\n",
    "    return word_count, cleaned_sentence\n",
    "\n",
    "input_sentence = input(\"Enter a sentence: \")\n",
    "word_count, cleaned_sentence = count_words(input_sentence)\n",
    "\n",
    "print(f\"Cleaned Sentence: '{cleaned_sentence}'\")\n",
    "print(f\"Number of words: {word_count}\")\n",
    "\n",
    "\n",
    "def count_letter_frequency(sentence):\n",
    "    frequency = {}\n",
    "    for char in sentence:\n",
    "        char = char.lower()\n",
    "        if char.isalpha():\n",
    "            if char in frequency:\n",
    "                frequency[char] += 1\n",
    "            else:\n",
    "                frequency[char] = 1\n",
    "    return frequency\n",
    "\n",
    "\n",
    "letter_frequency = count_letter_frequency(input_sentence)\n",
    "\n",
    "print(\"Letter Frequency:\")\n",
    "print(letter_frequency)\n",
    "\n",
    "most_occurred = max(letter_frequency.items(), key=lambda x: x[1])\n",
    "\n",
    "print(f\"The most occurred alphabet is '{most_occurred[0]}' with a frequency of {most_occurred[1]}.\")"
   ]
  }
 ],
 "metadata": {
  "kernelspec": {
   "display_name": "Python 3 (ipykernel)",
   "language": "python",
   "name": "python3"
  },
  "language_info": {
   "codemirror_mode": {
    "name": "ipython",
    "version": 3
   },
   "file_extension": ".py",
   "mimetype": "text/x-python",
   "name": "python",
   "nbconvert_exporter": "python",
   "pygments_lexer": "ipython3",
   "version": "3.11.7"
  }
 },
 "nbformat": 4,
 "nbformat_minor": 5
}
