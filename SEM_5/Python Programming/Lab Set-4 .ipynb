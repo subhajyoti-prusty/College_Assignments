{
 "cells": [
  {
   "cell_type": "code",
   "execution_count": 7,
   "id": "3075af8b-27fd-4c51-97e3-536931c044ca",
   "metadata": {},
   "outputs": [
    {
     "name": "stdout",
     "output_type": "stream",
     "text": [
      "Modified DataList (after removing duplicates and sorting): [-4, 0, 3, 7, 10, 12, 19, 28, 45, -11, -8, -6]\n",
      "Fifth smallest number: 0\n",
      "Second largest number: 28\n",
      "Even List: [-4, 0, 10, 12, 28, -8, -6]\n",
      "Odd List: [3, 7, 19, 45, -11]\n"
     ]
    }
   ],
   "source": [
    "DataList = [45, 28, -11, 0, 28, 10, -4, 45, 3, 19, -8, 7, 10, 3, 0, 28, 12, -6, -11, 10, 3]\n",
    "\n",
    "DataList = list(set(DataList)) \n",
    "DataList.sort()\n",
    "\n",
    "sorted_DataList = sorted(DataList)\n",
    "\n",
    "fifth_smallest = sorted(DataList)[4] \n",
    "second_largest = sorted(DataList)[-2]\n",
    "\n",
    "DataList = DataList[3:] + DataList[:3]\n",
    "\n",
    "EvenList = list(filter(lambda x:x%2 == 0,DataList))\n",
    "OddList = list(filter(lambda x:x%2 != 0,DataList))\n",
    "\n",
    "print(\"Modified DataList (after removing duplicates and sorting):\", DataList)\n",
    "print(\"Fifth smallest number:\", fifth_smallest)\n",
    "print(\"Second largest number:\", second_largest)\n",
    "print(\"Even List:\", EvenList)\n",
    "print(\"Odd List:\", OddList)"
   ]
  },
  {
   "cell_type": "code",
   "execution_count": 5,
   "id": "381b2ac3-009a-4ee0-956c-a8346fad7c2b",
   "metadata": {},
   "outputs": [
    {
     "name": "stdout",
     "output_type": "stream",
     "text": [
      "Product Price Dictionary: {1001: 250, 1002: 450, 1003: 300, 1004: 800, 1005: 150, 1006: 600}\n",
      "Price of the most expensive product: 800\n"
     ]
    },
    {
     "name": "stdin",
     "output_type": "stream",
     "text": [
      "Enter a product ID to get its price:  1002\n"
     ]
    },
    {
     "name": "stdout",
     "output_type": "stream",
     "text": [
      "Price for product ID 1002: 450\n"
     ]
    }
   ],
   "source": [
    "# Initial product IDs and prices\n",
    "Product_IDs = [1001, 1002, 1003, 1004, 1005, 1006]\n",
    "Prices = [250, 450, 300, 800, 150, 600]\n",
    "\n",
    "ProductPriceDict = dict(zip(Product_IDs, Prices))\n",
    "print(\"Product Price Dictionary:\", ProductPriceDict)\n",
    "\n",
    "def find_most_expensive_product(prices):\n",
    "    max_price = prices[0]\n",
    "    for price in prices:\n",
    "        if price > max_price:\n",
    "            max_price = price\n",
    "    return max_price\n",
    "\n",
    "most_expensive_price = find_most_expensive_product(Prices)\n",
    "print(\"Price of the most expensive product:\", most_expensive_price)\n",
    "\n",
    "def get_product_price(product_id):\n",
    "    if product_id in ProductPriceDict:\n",
    "        return ProductPriceDict[product_id]\n",
    "    else:\n",
    "        return \"Invalid product ID\"\n",
    "\n",
    "product_id_input = int(input(\"Enter a product ID to get its price: \"))\n",
    "product_price = get_product_price(product_id_input)\n",
    "print(f\"Price for product ID {product_id_input}: {product_price}\")\n"
   ]
  },
  {
   "cell_type": "code",
   "execution_count": null,
   "id": "5743835a-0da7-4c5d-b92e-4d903ae3870d",
   "metadata": {},
   "outputs": [],
   "source": []
  }
 ],
 "metadata": {
  "kernelspec": {
   "display_name": "Python 3 (ipykernel)",
   "language": "python",
   "name": "python3"
  },
  "language_info": {
   "codemirror_mode": {
    "name": "ipython",
    "version": 3
   },
   "file_extension": ".py",
   "mimetype": "text/x-python",
   "name": "python",
   "nbconvert_exporter": "python",
   "pygments_lexer": "ipython3",
   "version": "3.11.7"
  }
 },
 "nbformat": 4,
 "nbformat_minor": 5
}
