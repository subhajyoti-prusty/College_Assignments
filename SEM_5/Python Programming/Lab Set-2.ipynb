{
 "cells": [
  {
   "cell_type": "markdown",
   "id": "e5df7222",
   "metadata": {},
   "source": [
    "# Q1"
   ]
  },
  {
   "cell_type": "code",
   "execution_count": null,
   "id": "95fc4702",
   "metadata": {},
   "outputs": [],
   "source": [
    "EmployeeIDs = [101, 102, 103, 104, 105, 106, 107]\n",
    "Salaries = [45000, 52000, 61000, 48000, 39000, 72000, 67000]\n",
    "EmployeeData = dict(zip(EmployeeIDs, Salaries))\n",
    "print(EmployeeData)"
   ]
  },
  {
   "cell_type": "code",
   "execution_count": null,
   "id": "a107b76d",
   "metadata": {},
   "outputs": [],
   "source": [
    "def find_highest_salary(data):\n",
    "    highest_salary = 0\n",
    "    for salary in data.values():\n",
    "        if salary > highest_salary:\n",
    "            highest_salary = salary\n",
    "    return highest_salary\n",
    "\n",
    "print(find_highest_salary(EmployeeData))"
   ]
  },
  {
   "cell_type": "code",
   "execution_count": null,
   "id": "f9ccf911",
   "metadata": {},
   "outputs": [],
   "source": [
    "def count_employees_above_threshold(data, threshold):\n",
    "    count = 0\n",
    "    for salary in data.values():\n",
    "        if salary > threshold:\n",
    "            count += 1\n",
    "    return count\n",
    "\n",
    "print(count_employees_above_threshold(EmployeeData, 50000))"
   ]
  },
  {
   "cell_type": "code",
   "execution_count": null,
   "id": "c9099bd5",
   "metadata": {},
   "outputs": [],
   "source": [
    "def find_salary_by_id(data, emp_id):\n",
    "    for eid, salary in data.items():\n",
    "        if eid == emp_id:\n",
    "            return salary\n",
    "    return \"Employee ID not found\"\n",
    "\n",
    "print(find_salary_by_id(EmployeeData, 106))"
   ]
  },
  {
   "cell_type": "markdown",
   "id": "e23f2a12",
   "metadata": {},
   "source": [
    "# Q2"
   ]
  },
  {
   "cell_type": "code",
   "execution_count": null,
   "id": "c2ba17f6",
   "metadata": {},
   "outputs": [],
   "source": [
    "def reverse_words(sentence):\n",
    "    words = sentence.split()\n",
    "    reversed_sentence = \" \".join(reversed(words))\n",
    "    return reversed_sentence\n",
    "\n",
    "sentence = input(\"Enter a sentence: \")\n",
    "print(reverse_words(sentence))"
   ]
  },
  {
   "cell_type": "code",
   "execution_count": null,
   "id": "a57ee8cb",
   "metadata": {},
   "outputs": [],
   "source": [
    "def count_word_occurrences(paragraph):\n",
    "    words = paragraph.split()\n",
    "    word_count = {}\n",
    "    for word in words:\n",
    "        word_count[word] = word_count.get(word, 0) + 1\n",
    "    return word_count\n",
    "\n",
    "paragraph = input(\"Enter a paragraph: \")\n",
    "print(count_word_occurrences(paragraph))"
   ]
  },
  {
   "cell_type": "code",
   "execution_count": null,
   "id": "2b53222d",
   "metadata": {},
   "outputs": [],
   "source": [
    "def find_and_replace(paragraph, old_word, new_word):\n",
    "    replaced_paragraph = paragraph.replace(old_word, new_word)\n",
    "    return replaced_paragraph\n",
    "\n",
    "paragraph = input(\"Enter a paragraph: \")\n",
    "old_word = input(\"Enter the word to replace: \")\n",
    "new_word = input(\"Enter the new word: \")\n",
    "print(find_and_replace(paragraph, old_word, new_word))"
   ]
  },
  {
   "cell_type": "code",
   "execution_count": null,
   "id": "ef2390db",
   "metadata": {},
   "outputs": [],
   "source": [
    "while True:\n",
    "    print(\"\\nMenu:\")\n",
    "    print(\"1. Reverse the words in a sentence\")\n",
    "    print(\"2. Count the occurrences of each word in a paragraph\")\n",
    "    print(\"3. Find and replace all occurrences of a specific word\")\n",
    "    print(\"4. Exit\")\n",
    "            \n",
    "    choice = int(input(\"Enter your choice: \"))\n",
    "            \n",
    "    if choice == 1:\n",
    "            sentence = input(\"Enter a sentence: \")\n",
    "            print(reverse_words(sentence))\n",
    "            \n",
    "    elif choice == 2:\n",
    "        paragraph = input(\"Enter a paragraph: \")\n",
    "        print(count_word_occurrences(paragraph))\n",
    "            \n",
    "    elif choice == 3:\n",
    "        paragraph = input(\"Enter a paragraph: \")\n",
    "        old_word = input(\"Enter the word to replace: \")\n",
    "        new_word = input(\"Enter the new word: \")\n",
    "        print(find_and_replace(paragraph, old_word, new_word))\n",
    "            \n",
    "    elif choice == 4:\n",
    "        print(\"Exiting program. Goodbye!\")\n",
    "        break\n",
    "            \n",
    "    else:\n",
    "        print(\"Invalid choice. Please select a valid option.\")"
   ]
  }
 ],
 "metadata": {
  "kernelspec": {
   "display_name": "Python 3 (ipykernel)",
   "language": "python",
   "name": "python3"
  },
  "language_info": {
   "codemirror_mode": {
    "name": "ipython",
    "version": 3
   },
   "file_extension": ".py",
   "mimetype": "text/x-python",
   "name": "python",
   "nbconvert_exporter": "python",
   "pygments_lexer": "ipython3",
   "version": "3.11.7"
  }
 },
 "nbformat": 4,
 "nbformat_minor": 5
}
