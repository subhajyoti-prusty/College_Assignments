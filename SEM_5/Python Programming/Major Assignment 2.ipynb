{
 "cells": [
  {
   "cell_type": "code",
   "execution_count": 3,
   "id": "7e26846a-a288-4286-8c60-2e39d2a23ce5",
   "metadata": {},
   "outputs": [
    {
     "name": "stdout",
     "output_type": "stream",
     "text": [
      "Cleaned cities: ['Dnipro', 'Kharkiv', 'Kyiv', 'Lviv', 'Odessa']\n"
     ]
    }
   ],
   "source": [
    "\"\"\"\n",
    "Mission1\n",
    "------------------\n",
    "Clearing the Field\n",
    "Both Russia and Ukraine have critical resources contributing to their respective war efforts. However,\n",
    "Russia has significant backup and Ukraine requires immediate aid. You have received a list containing the\n",
    "names of cities in Ukraine where your organization is planning to send aid. Some cities are listed multiple\n",
    "times due to multiple aid requests.\n",
    "Task:\n",
    "• Write a Python function that removes duplicates from the list and sorts it alphabetically.\n",
    "• Return the cleaned list.\n",
    "Example:\n",
    "Input:\n",
    "cities = [“Kyiv”, “Kharkiv”, “Odessa”, “Kyiv”, “Lviv”, “Kharkiv”, “Dnipro”]\n",
    "Output:\n",
    "cleaned cities=[“Dnipro”, “Kharkiv”, “Kyiv”, “Lviv”, “Odessa”]\n",
    "\"\"\"\n",
    "\n",
    "def clean_city_list(cities):\n",
    "    unique_cities = []\n",
    "    for city in cities:\n",
    "        if city not in unique_cities:\n",
    "            unique_cities.append(city)\n",
    "    \n",
    "    unique_cities.sort()\n",
    "    return unique_cities\n",
    "\n",
    "cities = [\"Kyiv\", \"Kharkiv\", \"Odessa\", \"Kyiv\", \"Lviv\", \"Kharkiv\", \"Dnipro\"]\n",
    "cleaned_cities = clean_city_list(cities)\n",
    "print(\"Cleaned cities:\", cleaned_cities)"
   ]
  },
  {
   "cell_type": "code",
   "execution_count": 8,
   "id": "fee0724d-87b2-479c-a06c-b3bee613c525",
   "metadata": {},
   "outputs": [
    {
     "name": "stdout",
     "output_type": "stream",
     "text": [
      "All cities: {'Donetsk', 'Kharkiv', 'Mariupol', 'Kyiv', 'Odessa', 'Dnipro', 'Lviv'}\n",
      "Unique cities: {'Donetsk', 'Mariupol', 'Kharkiv', 'Odessa', 'Dnipro'}\n",
      "High alert cities: {'Kyiv', 'Lviv'}\n"
     ]
    }
   ],
   "source": [
    "\"\"\"\n",
    "Mission2\n",
    "-------------------------\n",
    "High Alert Identification\n",
    "As per previous intel, assume you already have a set of cities which require aid most frequently. You can\n",
    "use the concept of set to perform the current tasks, which constitute the following:\n",
    "• Find out all cities requiring aid considering the cleaned list of cities from Mission1 as well as the ones\n",
    "obtained from the previous intel.\n",
    "• Find cities that are unique to both the cleaned list of cities from Mission1 and the ones obtained from\n",
    "the previous intel.\n",
    "• Using the cleaned list of cities from Mission1, identify which cities are common between that list and\n",
    "the cities obtained from the previous intel. They are the ones on high alert.\n",
    "\n",
    "Example:\n",
    "Input:\n",
    "cleaned cities = {“Dnipro”, “Kharkiv”, “Kyiv”, “Lviv”, “Odessa”}\n",
    "previous intel = {“Kyiv”, “Mariupol”, “Lviv”, “Donetsk”}\n",
    "Output:\n",
    "{“Dnipro”, “Kharkiv”, “Kyiv”, “Lviv”, “Odessa”, “Mariupol”, “Donetsk”}\n",
    "{“Mariupol”, “Odessa”, “Donetsk”, “Dnipro”, “Kharkiv”}\n",
    "{“Kyiv”, “Lviv”}\n",
    "\"\"\"\n",
    "\n",
    "\n",
    "def high_alert_identification(cleaned_cities, previous_intel):\n",
    "    all_cities = cleaned_cities.copy()\n",
    "    for city in previous_intel:\n",
    "        if city not in all_cities:\n",
    "            all_cities.add(city)\n",
    "    \n",
    "    high_alert_cities = set()\n",
    "    for city in cleaned_cities:\n",
    "        if city in previous_intel:\n",
    "            high_alert_cities.add(city)\n",
    "    \n",
    "    unique_cities = set()\n",
    "    for city in all_cities:\n",
    "        if (city in cleaned_cities and city not in previous_intel) or (city in previous_intel and city not in cleaned_cities):\n",
    "            unique_cities.add(city)\n",
    "    \n",
    "    return all_cities, unique_cities, high_alert_cities\n",
    "\n",
    "cleaned_cities = {\"Dnipro\", \"Kharkiv\", \"Kyiv\", \"Lviv\", \"Odessa\"}\n",
    "previous_intel = {\"Kyiv\", \"Mariupol\", \"Lviv\", \"Donetsk\"}\n",
    "all_cities, unique_cities, high_alert_cities = high_alert_identification(cleaned_cities, previous_intel)\n",
    "\n",
    "print(\"All cities:\", all_cities)\n",
    "print(\"Unique cities:\", unique_cities)\n",
    "print(\"High alert cities:\", high_alert_cities)"
   ]
  },
  {
   "cell_type": "code",
   "execution_count": 10,
   "id": "38d0f295-4b38-418c-9ec3-ff0628c5126a",
   "metadata": {},
   "outputs": [
    {
     "name": "stdout",
     "output_type": "stream",
     "text": [
      "High alert cities info: {'Kyiv': (2800000, 250), 'Lviv': (721301, 90)}\n",
      "Total population: 3521301\n",
      "Total aid requests: 340\n"
     ]
    }
   ],
   "source": [
    "\"\"\"\n",
    "Mission3\n",
    "-------------------\n",
    "Detailed City Intel\n",
    "With detailed reconnaissance, you now have more exhaustive information about some cities, stored in tuples\n",
    "in a list. Each tuple contains the city name, population, and the number of aid requests received.\n",
    "Task:\n",
    "• Take the set of high alert cities from Mission2 and a list of tuples containing relevant data.\n",
    "• Return a dictionary where the keys are the city names and the values are the corresponding tuples.\n",
    "• Also find the population and the number of aid requests received overall from the cities obtained in\n",
    "the dictionary.\n",
    "Example:\n",
    "Input:\n",
    "high alert cities = “Kyiv”, “Lviv” city data = [(“Kyiv”, 2800000, 250), (“Kharkiv”, 1431000, 180), (“Lviv”,\n",
    "721301, 90), (“Odessa”, 1029049, 120)]\n",
    "Output:\n",
    "high alert cities info = {“Kyiv”: (“Kyiv”, 2800000, 250), “Lviv”: (“Lviv”, 721301, 90)}\n",
    "3521301\n",
    "\"\"\"\n",
    "\n",
    "def detailed_city_intel(high_alert_cities, city_data):\n",
    "    high_alert_info = {}\n",
    "    total_population = 0\n",
    "    total_requests = 0\n",
    "\n",
    "    for city_data_entry in city_data:\n",
    "        city = city_data_entry[0]\n",
    "        if city in high_alert_cities:\n",
    "            info = city_data_entry[1:]\n",
    "            high_alert_info[city] = info\n",
    "            total_population += info[0]\n",
    "            total_requests += info[1]\n",
    "\n",
    "    return high_alert_info, total_population, total_requests\n",
    "\n",
    "high_alert_cities = {\"Kyiv\", \"Lviv\"}\n",
    "city_data = [(\"Kyiv\", 2800000, 250), (\"Kharkiv\", 1431000, 180), (\"Lviv\", 721301, 90), (\"Odessa\", 1029049, 120)]\n",
    "high_alert_info, total_population, total_requests = detailed_city_intel(high_alert_cities, city_data)\n",
    "\n",
    "print(\"High alert cities info:\", high_alert_info)\n",
    "print(\"Total population:\", total_population)\n",
    "print(\"Total aid requests:\", total_requests)"
   ]
  },
  {
   "cell_type": "code",
   "execution_count": 12,
   "id": "2a992557-b621-4409-bfd1-240fdde7fb42",
   "metadata": {},
   "outputs": [
    {
     "name": "stdout",
     "output_type": "stream",
     "text": [
      "Supply distribution: {'Kyiv': {'Food': 500}, 'Moscow': {'Medicines': 200}, 'Lviv': {'Water': 300}, 'Saint Petersburg': {'Blankets': 100}, 'Kharkiv': {'Food': 150}}\n"
     ]
    }
   ],
   "source": [
    "\"\"\"\n",
    "Mission4\n",
    "----------------------------\n",
    "Tracking Supply Distribution\n",
    "You need to create a data structure to track the types and quantities of supplies sent to cities in both Ukraine\n",
    "and Russia.\n",
    "Task:\n",
    "• Take a list of tuples. Each tuple contains the city name (from both Ukraine and Russia), type of\n",
    "supply, and quantity sent.\n",
    "• Return a nested dictionary where the keys are city names and the values are dictionaries with supply\n",
    "types and quantities.\n",
    "\n",
    "Example:\n",
    "Input:\n",
    "supplies = [(“Kyiv”, “Food”, 500), (“Moscow”, “Medicines”, 200), (“Lviv”, “Water”, 300), (“Saint Petersburg”,\n",
    "“Blankets”, 100), (“Kharkiv”, “Food”, 150)]\n",
    "Output:\n",
    "{“Kyiv”: {“Food”: 500}, “Moscow”: {“Medicines”: 200}, “Lviv”: {“Water”: 300}, “Saint Petersburg”:\n",
    "{“Blankets”: 100}, “Kharkiv”: {“Food”: 150}}\n",
    "\"\"\"\n",
    "\n",
    "def track_supply_distribution(supplies):\n",
    "    supply_distribution = {}\n",
    "    for city, supply_type, quantity in supplies:\n",
    "        if city not in supply_distribution:\n",
    "            supply_distribution[city] = {}\n",
    "        supply_distribution[city][supply_type] = quantity\n",
    "\n",
    "    return supply_distribution\n",
    "\n",
    "supplies = [(\"Kyiv\", \"Food\", 500), (\"Moscow\", \"Medicines\", 200), \n",
    "            (\"Lviv\", \"Water\", 300), (\"Saint Petersburg\", \"Blankets\", 100), \n",
    "            (\"Kharkiv\", \"Food\", 150)]\n",
    "supply_distribution = track_supply_distribution(supplies)\n",
    "\n",
    "print(\"Supply distribution:\", supply_distribution)\n"
   ]
  }
 ],
 "metadata": {
  "kernelspec": {
   "display_name": "Python 3 (ipykernel)",
   "language": "python",
   "name": "python3"
  },
  "language_info": {
   "codemirror_mode": {
    "name": "ipython",
    "version": 3
   },
   "file_extension": ".py",
   "mimetype": "text/x-python",
   "name": "python",
   "nbconvert_exporter": "python",
   "pygments_lexer": "ipython3",
   "version": "3.11.7"
  }
 },
 "nbformat": 4,
 "nbformat_minor": 5
}
