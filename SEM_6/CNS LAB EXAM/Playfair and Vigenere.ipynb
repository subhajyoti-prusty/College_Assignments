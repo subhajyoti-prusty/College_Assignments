{
 "cells": [
  {
   "cell_type": "markdown",
   "id": "81416114",
   "metadata": {},
   "source": [
    "# Playfair Cipher"
   ]
  },
  {
   "cell_type": "code",
   "execution_count": 28,
   "id": "204f3175",
   "metadata": {},
   "outputs": [],
   "source": [
    "def create_playfair_square(phrase):\n",
    "    \"\"\"\n",
    "    Generate the Playfair square for the given phrase.\n",
    "    \"\"\"\n",
    "    # Replace 'J' with 'I' in the phrase, convert to uppercase, and append the alphabet\n",
    "    key = phrase.replace('J', 'I').upper() + 'ABCDEFGHIKLMNOPQRSTUVWXYZ'\n",
    "    key = \"\".join(dict.fromkeys(key))  # Remove duplicate letters while preserving order\n",
    "    grid = [[key[i + j] for j in range(5)] for i in range(0, 25, 5)]\n",
    "    return grid\n",
    "\n",
    "\n",
    "\n",
    "def find_location(grid, char):\n",
    "    \"\"\"\n",
    "    Helper function to get the row and column of the given char.\n",
    "    \"\"\"\n",
    "    for i in range(0, 5):\n",
    "        for j in range(0, 5):\n",
    "            if grid[i][j] == char:\n",
    "                return i, j\n",
    "\n",
    "\n",
    "def playfair_encrypt(message: str, key: str) -> str:\n",
    "    \"\"\"\n",
    "    Encrypt a message using the Playfair cipher.\n",
    "    \"\"\"\n",
    "    playfair_square = create_playfair_square(key)\n",
    "    ciphertext = ''\n",
    "\n",
    "    # Remove non-alphabetic characters\n",
    "    message = \"\".join(filter(str.isalpha, message))\n",
    "\n",
    "    # Handle repeating letters by inserting 'X' between them\n",
    "    i = 0\n",
    "    while i < len(message) - 1:\n",
    "        if message[i] == message[i+1]:\n",
    "            message = message[:i+1] + 'X' + message[i+1:]\n",
    "        i += 1\n",
    "    \n",
    "    # Append 'Z' if the last block only contain a single character\n",
    "    if len(message) % 2 == 1:\n",
    "        message += 'Z'\n",
    "\n",
    "    # For each digraphs, substitute the characters using the grid\n",
    "    for i in range(0, len(message), 2):\n",
    "        digraph = message[i:i+2]\n",
    "        row1, col1 = find_location(playfair_square, digraph[0])\n",
    "        row2, col2 = find_location(playfair_square, digraph[1])\n",
    "        if row1 == row2:\n",
    "            sub1 = playfair_square[row1][(col1 + 1) % 5]\n",
    "            sub2 = playfair_square[row2][(col2 + 1 ) % 5]\n",
    "        elif col1 == col2:\n",
    "            sub1 = playfair_square[(row1 + 1) % 5][col1]\n",
    "            sub2 = playfair_square[(row2 + 1) % 5][col2]\n",
    "        else:\n",
    "            sub1 = playfair_square[row1][col2]\n",
    "            sub2 = playfair_square[row2][col1]\n",
    "        \n",
    "        ciphertext += sub1 + sub2\n",
    "\n",
    "    return ciphertext\n",
    "\n",
    "\n",
    "def playfair_decrypt(ciphertext: str, key: str) -> str:\n",
    "    \"\"\"\n",
    "    Decrypt a message using the Playfair cipher.\n",
    "    \"\"\"\n",
    "    playfair_square = create_playfair_square(key)\n",
    "    message = ''\n",
    "\n",
    "    # For each digraphs, substitute the characters using the grid\n",
    "    for i in range(0, len(ciphertext), 2):\n",
    "        digraph = ciphertext[i:i+2]\n",
    "        row1, col1 = find_location(playfair_square, digraph[0])\n",
    "        row2, col2 = find_location(playfair_square, digraph[1])\n",
    "        if row1 == row2:\n",
    "            sub1 = playfair_square[row1][(col1 - 1) % 5]\n",
    "            sub2 = playfair_square[row2][(col2 - 1 ) % 5]\n",
    "        elif col1 == col2:\n",
    "            sub1 = playfair_square[(row1 - 1) % 5][col1]\n",
    "            sub2 = playfair_square[(row2 - 1) % 5][col2]\n",
    "        else:\n",
    "            sub1 = playfair_square[row1][col2]\n",
    "            sub2 = playfair_square[row2][col1]\n",
    "        \n",
    "        message += sub1 + sub2\n",
    "\n",
    "    # Remove the 'X' between two similar letters\n",
    "    i = 0\n",
    "    while i < len(message) - 2:\n",
    "        if message[i] == message[i+2] and message[i+1] == 'X':\n",
    "            message = message[:i+1] + message[i+2:]\n",
    "        i += 1\n",
    "\n",
    "    # Remove the last 'Z'\n",
    "    if message[-1] == 'Z':\n",
    "        message = message[:-1]\n",
    "\n",
    "    return message"
   ]
  },
  {
   "cell_type": "code",
   "execution_count": 30,
   "id": "5a7e5692-f027-4973-9e42-9705b70d8d9a",
   "metadata": {},
   "outputs": [
    {
     "name": "stdout",
     "output_type": "stream",
     "text": [
      "FKKAPOKV\n",
      "SMILCVMIRU\n"
     ]
    }
   ],
   "source": [
    "keyword = 'BRSRHMCQEL'\n",
    "message = 'DIAMOND'\n",
    "\n",
    "encrypted = playfair_encrypt(message, keyword)\n",
    "print(encrypted)\n",
    "\n",
    "decrypted = playfair_decrypt(\"HBTIDBHKMO\", keyword)\n",
    "print(decrypted)"
   ]
  },
  {
   "cell_type": "markdown",
   "id": "3cee67fe-c2ce-430d-a890-cbc48f6e3e9b",
   "metadata": {},
   "source": [
    "# Vigenère Cipher"
   ]
  },
  {
   "cell_type": "code",
   "execution_count": 5,
   "id": "c02d9df3-589e-4c51-98eb-d882749a41c7",
   "metadata": {},
   "outputs": [],
   "source": [
    "def generate_key(msg, key):\n",
    "    key = list(key)\n",
    "    if len(msg) == len(key):\n",
    "        return key\n",
    "    else:\n",
    "        for i in range(len(msg) - len(key)):\n",
    "            key.append(key[i % len(key)])\n",
    "    return \"\".join(key)\n",
    "\n",
    "def encrypt_vigenere(msg, key):\n",
    "    encrypted_text = []\n",
    "    key = generate_key(msg, key)\n",
    "    for i in range(len(msg)):\n",
    "        char = msg[i]\n",
    "        if char.isupper():\n",
    "            encrypted_char = chr((ord(char) + ord(key[i]) - 2 * ord('A')) % 26 + ord('A'))\n",
    "        elif char.islower():\n",
    "            encrypted_char = chr((ord(char) + ord(key[i]) - 2 * ord('a')) % 26 + ord('a'))\n",
    "        else:\n",
    "            encrypted_char = char\n",
    "        encrypted_text.append(encrypted_char)\n",
    "    return \"\".join(encrypted_text)\n",
    "\n",
    "def decrypt_vigenere(msg, key):\n",
    "    decrypted_text = []\n",
    "    key = generate_key(msg, key)\n",
    "    for i in range(len(msg)):\n",
    "        char = msg[i]\n",
    "        if char.isupper():\n",
    "            decrypted_char = chr((ord(char) - ord(key[i]) + 26) % 26 + ord('A'))\n",
    "        elif char.islower():\n",
    "            decrypted_char = chr((ord(char) - ord(key[i]) + 26) % 26 + ord('a'))\n",
    "        else:\n",
    "            decrypted_char = char\n",
    "        decrypted_text.append(decrypted_char)\n",
    "    return \"\".join(decrypted_text)"
   ]
  },
  {
   "cell_type": "code",
   "execution_count": 20,
   "id": "d7a5705d-4749-4065-b4de-3b27b6001a0f",
   "metadata": {},
   "outputs": [
    {
     "name": "stdout",
     "output_type": "stream",
     "text": [
      "Encrypted Text: DCTXSWWVVVAMZ\n",
      "Decrypted Text: CYBERSECURITY\n"
     ]
    }
   ],
   "source": [
    "text_to_encrypt = \"CYBERSECURITY\"\n",
    "key = \"BEST\"\n",
    "\n",
    "encrypted_text = encrypt_vigenere(text_to_encrypt, key)\n",
    "print(f\"Encrypted Text: {encrypted_text}\")\n",
    "\n",
    "decrypted_text = decrypt_vigenere(encrypted_text, key)\n",
    "print(f\"Decrypted Text: {decrypted_text}\")"
   ]
  },
  {
   "cell_type": "code",
   "execution_count": null,
   "id": "62622651-7f5c-4b59-b92b-5d216d78fde9",
   "metadata": {},
   "outputs": [],
   "source": []
  }
 ],
 "metadata": {
  "kernelspec": {
   "display_name": "Python 3 (ipykernel)",
   "language": "python",
   "name": "python3"
  },
  "language_info": {
   "codemirror_mode": {
    "name": "ipython",
    "version": 3
   },
   "file_extension": ".py",
   "mimetype": "text/x-python",
   "name": "python",
   "nbconvert_exporter": "python",
   "pygments_lexer": "ipython3",
   "version": "3.12.4"
  }
 },
 "nbformat": 4,
 "nbformat_minor": 5
}
