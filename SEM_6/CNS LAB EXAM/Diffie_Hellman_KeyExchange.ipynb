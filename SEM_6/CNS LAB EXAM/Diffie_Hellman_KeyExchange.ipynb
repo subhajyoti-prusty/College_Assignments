{
  "nbformat": 4,
  "nbformat_minor": 0,
  "metadata": {
    "colab": {
      "provenance": []
    },
    "kernelspec": {
      "name": "python3",
      "display_name": "Python 3"
    },
    "language_info": {
      "name": "python"
    }
  },
  "cells": [
    {
      "cell_type": "code",
      "source": [
        "import random\n",
        "import math"
      ],
      "metadata": {
        "id": "1Mt9iU_dXQdu"
      },
      "execution_count": null,
      "outputs": []
    },
    {
      "cell_type": "code",
      "source": [
        "def isPrime(n):\n",
        "    for i in range(2, int(math.sqrt(n)) + 1):\n",
        "        if n % i == 0:\n",
        "            return False\n",
        "    return True"
      ],
      "metadata": {
        "id": "RAndG56pYvr7"
      },
      "execution_count": null,
      "outputs": []
    },
    {
      "cell_type": "code",
      "source": [
        "def getPrimeNumber(r1, r2):\n",
        "    while True:\n",
        "        n = random.randint(r1, r2)\n",
        "        if isPrime(n):\n",
        "            return n"
      ],
      "metadata": {
        "id": "vr1HAV9OZB2_"
      },
      "execution_count": null,
      "outputs": []
    },
    {
      "cell_type": "code",
      "source": [
        "p=getPrimeNumber(2,100)\n",
        "print('Chosen prime number p=',p)\n",
        "g=int(input('Enter the generator of order p-1:'))"
      ],
      "metadata": {
        "colab": {
          "base_uri": "https://localhost:8080/"
        },
        "id": "blaBUc1qZdKG",
        "outputId": "7085c166-92bb-4853-fe28-3cd34e1f6c71"
      },
      "execution_count": null,
      "outputs": [
        {
          "name": "stdout",
          "output_type": "stream",
          "text": [
            "Chosen prime number p= 89\n",
            "Enter the generator of order p-1:23\n"
          ]
        }
      ]
    },
    {
      "cell_type": "code",
      "source": [
        "x = random.randint(2, p)\n",
        "R1 = pow(g,x) % p\n",
        "print('Alice choosen a large random number x=',x,' and computed R1=',R1)"
      ],
      "metadata": {
        "colab": {
          "base_uri": "https://localhost:8080/"
        },
        "id": "Z-wqqFhFcpW3",
        "outputId": "811ee26a-c483-4401-a290-361048a0c906"
      },
      "execution_count": null,
      "outputs": [
        {
          "output_type": "stream",
          "name": "stdout",
          "text": [
            "Alice choosen a large random number x= 72  and computed R1= 67\n"
          ]
        }
      ]
    },
    {
      "cell_type": "code",
      "source": [
        "y = random.randint(2, p)\n",
        "R2 = pow(g,y) % p\n",
        "print('Bob choosen a large random number y=',y,' and computed R2=',R2)"
      ],
      "metadata": {
        "colab": {
          "base_uri": "https://localhost:8080/"
        },
        "id": "5bJulTrpdv0r",
        "outputId": "3f481cc4-aac9-4763-dbc1-a86cf6eefbb1"
      },
      "execution_count": null,
      "outputs": [
        {
          "output_type": "stream",
          "name": "stdout",
          "text": [
            "Bob choosen a large random number y= 63  and computed R2= 15\n"
          ]
        }
      ]
    },
    {
      "cell_type": "code",
      "source": [
        "K_Alice = pow(R2,x) % p\n",
        "K_Bob   = pow(R1,y) % p\n",
        "print('Alice\\'s Computed Shared Key is:',K_Alice)\n",
        "print('Bob\\'s   Computed Shared Key is:',K_Bob)\n",
        "\n",
        "if K_Alice == K_Bob:\n",
        "  print('Key Exchange Successful...')\n",
        "else:\n",
        "  print('Key Exchange not Successful...')"
      ],
      "metadata": {
        "colab": {
          "base_uri": "https://localhost:8080/"
        },
        "id": "B3ZvwwLbeEdQ",
        "outputId": "2aec1cb6-f633-47a4-dbe6-dfec8906e196"
      },
      "execution_count": null,
      "outputs": [
        {
          "output_type": "stream",
          "name": "stdout",
          "text": [
            "Alice's Computed Shared Key is: 64\n",
            "Bob's   Computed Shared Key is: 64\n",
            "Key Exchange Successful...\n"
          ]
        }
      ]
    }
  ]
}