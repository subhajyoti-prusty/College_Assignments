{
  "nbformat": 4,
  "nbformat_minor": 0,
  "metadata": {
    "colab": {
      "provenance": []
    },
    "kernelspec": {
      "name": "python3",
      "display_name": "Python 3"
    },
    "language_info": {
      "name": "python"
    }
  },
  "cells": [
    {
      "cell_type": "code",
      "source": [
        "# Please go through the following documentation\n",
        "#\n",
        "# https://pycryptodome.readthedocs.io/en/latest/src/introduction.html\n",
        "  # https://pycryptodome.readthedocs.io/en/latest/src/features.html\n",
        "    # https://pycryptodome.readthedocs.io/en/latest/src/api.html\n",
        "      # https://pycryptodome.readthedocs.io/en/latest/src/cipher/cipher.html\n",
        "        # https://pycryptodome.readthedocs.io/en/latest/src/cipher/des.html"
      ],
      "metadata": {
        "id": "oR9HSj1OBdsu"
      },
      "execution_count": null,
      "outputs": []
    },
    {
      "cell_type": "code",
      "source": [
        "pip install pycryptodome"
      ],
      "metadata": {
        "colab": {
          "base_uri": "https://localhost:8080/"
        },
        "id": "s1ymPSf-d-CW",
        "outputId": "d6d34c96-bace-4301-8e7e-0b3125f2b6f5"
      },
      "execution_count": null,
      "outputs": [
        {
          "output_type": "stream",
          "name": "stdout",
          "text": [
            "Collecting pycryptodome\n",
            "  Downloading pycryptodome-3.22.0-cp37-abi3-manylinux_2_17_x86_64.manylinux2014_x86_64.whl.metadata (3.4 kB)\n",
            "Downloading pycryptodome-3.22.0-cp37-abi3-manylinux_2_17_x86_64.manylinux2014_x86_64.whl (2.3 MB)\n",
            "\u001b[2K   \u001b[90m━━━━━━━━━━━━━━━━━━━━━━━━━━━━━━━━━━━━━━━━\u001b[0m \u001b[32m2.3/2.3 MB\u001b[0m \u001b[31m7.7 MB/s\u001b[0m eta \u001b[36m0:00:00\u001b[0m\n",
            "\u001b[?25hInstalling collected packages: pycryptodome\n",
            "Successfully installed pycryptodome-3.22.0\n"
          ]
        }
      ]
    },
    {
      "cell_type": "code",
      "execution_count": null,
      "metadata": {
        "id": "lkpS6RoDdTsk"
      },
      "outputs": [],
      "source": [
        "from Crypto.Cipher import DES\n",
        "import binascii"
      ]
    },
    {
      "cell_type": "code",
      "source": [
        "def encryption(des, P, key):\n",
        "    while (len(P) % 8 != 0):\n",
        "        P += \" \"\n",
        "    P = P.encode()              # Converts string to binary\n",
        "    C = des.encrypt(P)          # Calls the encrypt function\n",
        "    C = binascii.hexlify(C)     # Return the hexadecimal representation of the binary C.\n",
        "    C = C.decode()              # Converts binary C to string\n",
        "    return C"
      ],
      "metadata": {
        "id": "bYtHNdqbp8Ck"
      },
      "execution_count": null,
      "outputs": []
    },
    {
      "cell_type": "code",
      "source": [
        "def decryption(des, C, key):\n",
        "    C = binascii.unhexlify(C)   # Return the binary data represented by the hexadecimal string hexstr.\n",
        "    P1 = des.decrypt(C)         # Calls decrypt function\n",
        "    P1 = P1.decode().strip()    # Converts binary C to string and remove padding spaces.\n",
        "    return P1;"
      ],
      "metadata": {
        "id": "4DmlqHl2qKfu"
      },
      "execution_count": null,
      "outputs": []
    },
    {
      "cell_type": "code",
      "source": [
        "key = input(\"Enter key: \")\n",
        "P = input(\"Enter plaintext: \")\n",
        "print(\"Plaintext is: \",P)\n",
        "key = key.encode()              # key is converted to binary. DES.new() takes the key in binary\n",
        "des_cipher = DES.new(key, DES.MODE_ECB) # Creates a DES cipher object."
      ],
      "metadata": {
        "colab": {
          "base_uri": "https://localhost:8080/"
        },
        "id": "5oIJNqLWqM9S",
        "outputId": "83b50625-78f7-44c6-8940-3b35d7324fcc"
      },
      "execution_count": null,
      "outputs": [
        {
          "output_type": "stream",
          "name": "stdout",
          "text": [
            "Enter key: 01234567\n",
            "Enter plaintext: Hello World\n",
            "Plaintext is:  Hello World\n"
          ]
        }
      ]
    },
    {
      "cell_type": "code",
      "source": [
        "C = encryption(des_cipher, P, key)      # Calls encryption function with the ciper object, plaintext and key.\n",
        "print(\"Ciphertext after encryption: \",C)"
      ],
      "metadata": {
        "colab": {
          "base_uri": "https://localhost:8080/"
        },
        "id": "8dXdWnHeqWe8",
        "outputId": "80663190-5515-40ff-bd5b-de87f5eaf434"
      },
      "execution_count": null,
      "outputs": [
        {
          "output_type": "stream",
          "name": "stdout",
          "text": [
            "Ciphertext after encryption:  24d6649f4b29a8f4ec8dba92befb56f4\n"
          ]
        }
      ]
    },
    {
      "cell_type": "code",
      "source": [
        "P1 = decryption(des_cipher, C, key)     # # Calls decryption function with the ciper object, ciphertext and key.\n",
        "print(\"Plaintext after decryption: \",P1)"
      ],
      "metadata": {
        "colab": {
          "base_uri": "https://localhost:8080/"
        },
        "id": "2QXdoZPwqbza",
        "outputId": "cc5abd9e-4a06-4b44-d9f7-ed0a2e2bd9e6"
      },
      "execution_count": null,
      "outputs": [
        {
          "output_type": "stream",
          "name": "stdout",
          "text": [
            "Plaintext after decryption:  Hello World\n"
          ]
        }
      ]
    }
  ]
}