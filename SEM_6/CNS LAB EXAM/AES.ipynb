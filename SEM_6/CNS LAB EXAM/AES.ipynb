{
 "cells": [
  {
   "cell_type": "markdown",
   "id": "f4a87c79",
   "metadata": {},
   "source": [
    "# Advanced Encryption Algorithm / Standard"
   ]
  },
  {
   "cell_type": "markdown",
   "id": "be7db621",
   "metadata": {},
   "source": [
    "> https://github.com/bozhu/AES-Python/blob/master/aes.py\n",
    "    \n",
    "> https://github.com/boppreh/aes/blob/master/aes.py\n",
    "    \n",
    "> https://github.com/rafael2903/AES-128-cipher/blob/main/AES.py"
   ]
  },
  {
   "cell_type": "code",
   "execution_count": 1,
   "id": "d9da70d6",
   "metadata": {},
   "outputs": [
    {
     "name": "stdout",
     "output_type": "stream",
     "text": [
      "Defaulting to user installation because normal site-packages is not writeable\n",
      "Requirement already satisfied: pycryptodome in /home/student/.local/lib/python3.11/site-packages (3.22.0)\n",
      "Note: you may need to restart the kernel to use updated packages.\n"
     ]
    }
   ],
   "source": [
    "pip install pycryptodome"
   ]
  },
  {
   "cell_type": "code",
   "execution_count": 2,
   "id": "42a1b5f1",
   "metadata": {},
   "outputs": [],
   "source": [
    "from Crypto.Cipher import AES\n",
    "import binascii"
   ]
  },
  {
   "cell_type": "code",
   "execution_count": 9,
   "id": "6c76f528",
   "metadata": {},
   "outputs": [],
   "source": [
    "def encryption(aes, P, key):\n",
    "    while (len(P) % 16 != 0):\n",
    "        P += \" \"\n",
    "    P = P.encode()\n",
    "    C = aes.encrypt(P)\n",
    "    C = binascii.hexlify(C)\n",
    "    C = C.decode()\n",
    "    return C"
   ]
  },
  {
   "cell_type": "code",
   "execution_count": 4,
   "id": "b7705a39",
   "metadata": {},
   "outputs": [],
   "source": [
    "def decryption(aes, C, key):\n",
    "    C = binascii.unhexlify(C)\n",
    "    P1 = aes.decrypt(C)\n",
    "    P1 = P1.decode().strip()\n",
    "    return P1"
   ]
  },
  {
   "cell_type": "code",
   "execution_count": 5,
   "id": "21d35dd5",
   "metadata": {},
   "outputs": [
    {
     "name": "stdout",
     "output_type": "stream",
     "text": [
      "ENter key: 1234567890123456\n",
      "Enter Plain-Text: Hello World\n",
      "Plain-Text is:  Hello World\n"
     ]
    }
   ],
   "source": [
    "key = input(\"ENter key: \")\n",
    "P = input(\"Enter Plain-Text: \")\n",
    "print(\"Plain-Text is: \", P)\n",
    "key = key.encode()\n",
    "aes_cipher = AES.new(key, AES.MODE_ECB)"
   ]
  },
  {
   "cell_type": "code",
   "execution_count": 10,
   "id": "01bc9f22",
   "metadata": {},
   "outputs": [
    {
     "name": "stdout",
     "output_type": "stream",
     "text": [
      "Cipher-Text after encryption:  2bd7987944e0991ec020cd8cc91eecc8\n"
     ]
    }
   ],
   "source": [
    "C = encryption(aes_cipher, P, key)\n",
    "print(\"Cipher-Text after encryption: \", C)"
   ]
  },
  {
   "cell_type": "code",
   "execution_count": 11,
   "id": "9e9c57d2",
   "metadata": {},
   "outputs": [
    {
     "name": "stdout",
     "output_type": "stream",
     "text": [
      "Plain-Text after decryption:  Hello World\n"
     ]
    }
   ],
   "source": [
    "P1 = decryption(aes_cipher, C, key)\n",
    "print(\"Plain-Text after decryption: \", P1)"
   ]
  }
 ],
 "metadata": {
  "kernelspec": {
   "display_name": "Python 3 (ipykernel)",
   "language": "python",
   "name": "python3"
  },
  "language_info": {
   "codemirror_mode": {
    "name": "ipython",
    "version": 3
   },
   "file_extension": ".py",
   "mimetype": "text/x-python",
   "name": "python",
   "nbconvert_exporter": "python",
   "pygments_lexer": "ipython3",
   "version": "3.11.4"
  }
 },
 "nbformat": 4,
 "nbformat_minor": 5
}
